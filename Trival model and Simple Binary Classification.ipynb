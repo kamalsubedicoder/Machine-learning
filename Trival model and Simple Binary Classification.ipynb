{
 "cells": [
  {
   "cell_type": "markdown",
   "metadata": {},
   "source": [
    "# DIGITAL ASSIGNMENT I\n",
    "# MACHINE LEARNING (CSE 4020)\n",
    "# KAMAL SUBEDI (18BCE2479)"
   ]
  },
  {
   "cell_type": "code",
   "execution_count": 1,
   "metadata": {},
   "outputs": [],
   "source": [
    "import sklearn.datasets\n",
    "import numpy as np\n"
   ]
  },
  {
   "cell_type": "code",
   "execution_count": 2,
   "metadata": {},
   "outputs": [],
   "source": [
    "cancer_ds=sklearn.datasets.load_breast_cancer()"
   ]
  },
  {
   "cell_type": "code",
   "execution_count": 3,
   "metadata": {},
   "outputs": [],
   "source": [
    "#let organise X and Y\n",
    "X=cancer_ds.data\n",
    "Y=cancer_ds.target"
   ]
  },
  {
   "cell_type": "code",
   "execution_count": 4,
   "metadata": {},
   "outputs": [
    {
     "name": "stdout",
     "output_type": "stream",
     "text": [
      "[[1.799e+01 1.038e+01 1.228e+02 ... 2.654e-01 4.601e-01 1.189e-01]\n",
      " [2.057e+01 1.777e+01 1.329e+02 ... 1.860e-01 2.750e-01 8.902e-02]\n",
      " [1.969e+01 2.125e+01 1.300e+02 ... 2.430e-01 3.613e-01 8.758e-02]\n",
      " ...\n",
      " [1.660e+01 2.808e+01 1.083e+02 ... 1.418e-01 2.218e-01 7.820e-02]\n",
      " [2.060e+01 2.933e+01 1.401e+02 ... 2.650e-01 4.087e-01 1.240e-01]\n",
      " [7.760e+00 2.454e+01 4.792e+01 ... 0.000e+00 2.871e-01 7.039e-02]]\n",
      "[0 0 0 0 0 0 0 0 0 0 0 0 0 0 0 0 0 0 0 1 1 1 0 0 0 0 0 0 0 0 0 0 0 0 0 0 0\n",
      " 1 0 0 0 0 0 0 0 0 1 0 1 1 1 1 1 0 0 1 0 0 1 1 1 1 0 1 0 0 1 1 1 1 0 1 0 0\n",
      " 1 0 1 0 0 1 1 1 0 0 1 0 0 0 1 1 1 0 1 1 0 0 1 1 1 0 0 1 1 1 1 0 1 1 0 1 1\n",
      " 1 1 1 1 1 1 0 0 0 1 0 0 1 1 1 0 0 1 0 1 0 0 1 0 0 1 1 0 1 1 0 1 1 1 1 0 1\n",
      " 1 1 1 1 1 1 1 1 0 1 1 1 1 0 0 1 0 1 1 0 0 1 1 0 0 1 1 1 1 0 1 1 0 0 0 1 0\n",
      " 1 0 1 1 1 0 1 1 0 0 1 0 0 0 0 1 0 0 0 1 0 1 0 1 1 0 1 0 0 0 0 1 1 0 0 1 1\n",
      " 1 0 1 1 1 1 1 0 0 1 1 0 1 1 0 0 1 0 1 1 1 1 0 1 1 1 1 1 0 1 0 0 0 0 0 0 0\n",
      " 0 0 0 0 0 0 0 1 1 1 1 1 1 0 1 0 1 1 0 1 1 0 1 0 0 1 1 1 1 1 1 1 1 1 1 1 1\n",
      " 1 0 1 1 0 1 0 1 1 1 1 1 1 1 1 1 1 1 1 1 1 0 1 1 1 0 1 0 1 1 1 1 0 0 0 1 1\n",
      " 1 1 0 1 0 1 0 1 1 1 0 1 1 1 1 1 1 1 0 0 0 1 1 1 1 1 1 1 1 1 1 1 0 0 1 0 0\n",
      " 0 1 0 0 1 1 1 1 1 0 1 1 1 1 1 0 1 1 1 0 1 1 0 0 1 1 1 1 1 1 0 1 1 1 1 1 1\n",
      " 1 0 1 1 1 1 1 0 1 1 0 1 1 1 1 1 1 1 1 1 1 1 1 0 1 0 0 1 0 1 1 1 1 1 0 1 1\n",
      " 0 1 0 1 1 0 1 0 1 1 1 1 1 1 1 1 0 0 1 1 1 1 1 1 0 1 1 1 1 1 1 1 1 1 1 0 1\n",
      " 1 1 1 1 1 1 0 1 0 1 1 0 1 1 1 1 1 0 0 1 0 1 0 1 1 1 1 1 0 1 1 0 1 0 1 0 0\n",
      " 1 1 1 0 1 1 1 1 1 1 1 1 1 1 1 0 1 0 0 1 1 1 1 1 1 1 1 1 1 1 1 1 1 1 1 1 1\n",
      " 1 1 1 1 1 1 1 0 0 0 0 0 0 1]\n"
     ]
    }
   ],
   "source": [
    "print(X)   #X is continuous data \n",
    "print(Y)   #Y is discrete data"
   ]
  },
  {
   "cell_type": "code",
   "execution_count": 5,
   "metadata": {},
   "outputs": [
    {
     "name": "stdout",
     "output_type": "stream",
     "text": [
      "(569, 30) (569,)\n"
     ]
    }
   ],
   "source": [
    "# Curious about how many rows and columns\n",
    "print(X.shape, Y.shape)"
   ]
  },
  {
   "cell_type": "code",
   "execution_count": 6,
   "metadata": {},
   "outputs": [],
   "source": [
    "#Get the data into a dataframe\n",
    "import pandas as pd\n",
    "data = pd.DataFrame(cancer_ds.data, columns = cancer_ds.feature_names)\n"
   ]
  },
  {
   "cell_type": "code",
   "execution_count": 7,
   "metadata": {},
   "outputs": [],
   "source": [
    "# Rename the target variable\n",
    "data[\"class\"] = cancer_ds.target"
   ]
  },
  {
   "cell_type": "code",
   "execution_count": 8,
   "metadata": {},
   "outputs": [
    {
     "data": {
      "text/plain": [
       "0      0\n",
       "1      0\n",
       "2      0\n",
       "3      0\n",
       "4      0\n",
       "      ..\n",
       "564    0\n",
       "565    0\n",
       "566    0\n",
       "567    0\n",
       "568    1\n",
       "Name: class, Length: 569, dtype: int32"
      ]
     },
     "execution_count": 8,
     "metadata": {},
     "output_type": "execute_result"
    }
   ],
   "source": [
    "#investigae\n",
    "\n",
    "data[\"class\"]"
   ]
  },
  {
   "cell_type": "code",
   "execution_count": 9,
   "metadata": {},
   "outputs": [
    {
     "data": {
      "text/html": [
       "<div>\n",
       "<style scoped>\n",
       "    .dataframe tbody tr th:only-of-type {\n",
       "        vertical-align: middle;\n",
       "    }\n",
       "\n",
       "    .dataframe tbody tr th {\n",
       "        vertical-align: top;\n",
       "    }\n",
       "\n",
       "    .dataframe thead th {\n",
       "        text-align: right;\n",
       "    }\n",
       "</style>\n",
       "<table border=\"1\" class=\"dataframe\">\n",
       "  <thead>\n",
       "    <tr style=\"text-align: right;\">\n",
       "      <th></th>\n",
       "      <th>mean radius</th>\n",
       "      <th>mean texture</th>\n",
       "      <th>mean perimeter</th>\n",
       "      <th>mean area</th>\n",
       "      <th>mean smoothness</th>\n",
       "      <th>mean compactness</th>\n",
       "      <th>mean concavity</th>\n",
       "      <th>mean concave points</th>\n",
       "      <th>mean symmetry</th>\n",
       "      <th>mean fractal dimension</th>\n",
       "      <th>...</th>\n",
       "      <th>worst texture</th>\n",
       "      <th>worst perimeter</th>\n",
       "      <th>worst area</th>\n",
       "      <th>worst smoothness</th>\n",
       "      <th>worst compactness</th>\n",
       "      <th>worst concavity</th>\n",
       "      <th>worst concave points</th>\n",
       "      <th>worst symmetry</th>\n",
       "      <th>worst fractal dimension</th>\n",
       "      <th>class</th>\n",
       "    </tr>\n",
       "  </thead>\n",
       "  <tbody>\n",
       "    <tr>\n",
       "      <th>0</th>\n",
       "      <td>17.99</td>\n",
       "      <td>10.38</td>\n",
       "      <td>122.80</td>\n",
       "      <td>1001.0</td>\n",
       "      <td>0.11840</td>\n",
       "      <td>0.27760</td>\n",
       "      <td>0.3001</td>\n",
       "      <td>0.14710</td>\n",
       "      <td>0.2419</td>\n",
       "      <td>0.07871</td>\n",
       "      <td>...</td>\n",
       "      <td>17.33</td>\n",
       "      <td>184.60</td>\n",
       "      <td>2019.0</td>\n",
       "      <td>0.1622</td>\n",
       "      <td>0.6656</td>\n",
       "      <td>0.7119</td>\n",
       "      <td>0.2654</td>\n",
       "      <td>0.4601</td>\n",
       "      <td>0.11890</td>\n",
       "      <td>0</td>\n",
       "    </tr>\n",
       "    <tr>\n",
       "      <th>1</th>\n",
       "      <td>20.57</td>\n",
       "      <td>17.77</td>\n",
       "      <td>132.90</td>\n",
       "      <td>1326.0</td>\n",
       "      <td>0.08474</td>\n",
       "      <td>0.07864</td>\n",
       "      <td>0.0869</td>\n",
       "      <td>0.07017</td>\n",
       "      <td>0.1812</td>\n",
       "      <td>0.05667</td>\n",
       "      <td>...</td>\n",
       "      <td>23.41</td>\n",
       "      <td>158.80</td>\n",
       "      <td>1956.0</td>\n",
       "      <td>0.1238</td>\n",
       "      <td>0.1866</td>\n",
       "      <td>0.2416</td>\n",
       "      <td>0.1860</td>\n",
       "      <td>0.2750</td>\n",
       "      <td>0.08902</td>\n",
       "      <td>0</td>\n",
       "    </tr>\n",
       "    <tr>\n",
       "      <th>2</th>\n",
       "      <td>19.69</td>\n",
       "      <td>21.25</td>\n",
       "      <td>130.00</td>\n",
       "      <td>1203.0</td>\n",
       "      <td>0.10960</td>\n",
       "      <td>0.15990</td>\n",
       "      <td>0.1974</td>\n",
       "      <td>0.12790</td>\n",
       "      <td>0.2069</td>\n",
       "      <td>0.05999</td>\n",
       "      <td>...</td>\n",
       "      <td>25.53</td>\n",
       "      <td>152.50</td>\n",
       "      <td>1709.0</td>\n",
       "      <td>0.1444</td>\n",
       "      <td>0.4245</td>\n",
       "      <td>0.4504</td>\n",
       "      <td>0.2430</td>\n",
       "      <td>0.3613</td>\n",
       "      <td>0.08758</td>\n",
       "      <td>0</td>\n",
       "    </tr>\n",
       "    <tr>\n",
       "      <th>3</th>\n",
       "      <td>11.42</td>\n",
       "      <td>20.38</td>\n",
       "      <td>77.58</td>\n",
       "      <td>386.1</td>\n",
       "      <td>0.14250</td>\n",
       "      <td>0.28390</td>\n",
       "      <td>0.2414</td>\n",
       "      <td>0.10520</td>\n",
       "      <td>0.2597</td>\n",
       "      <td>0.09744</td>\n",
       "      <td>...</td>\n",
       "      <td>26.50</td>\n",
       "      <td>98.87</td>\n",
       "      <td>567.7</td>\n",
       "      <td>0.2098</td>\n",
       "      <td>0.8663</td>\n",
       "      <td>0.6869</td>\n",
       "      <td>0.2575</td>\n",
       "      <td>0.6638</td>\n",
       "      <td>0.17300</td>\n",
       "      <td>0</td>\n",
       "    </tr>\n",
       "    <tr>\n",
       "      <th>4</th>\n",
       "      <td>20.29</td>\n",
       "      <td>14.34</td>\n",
       "      <td>135.10</td>\n",
       "      <td>1297.0</td>\n",
       "      <td>0.10030</td>\n",
       "      <td>0.13280</td>\n",
       "      <td>0.1980</td>\n",
       "      <td>0.10430</td>\n",
       "      <td>0.1809</td>\n",
       "      <td>0.05883</td>\n",
       "      <td>...</td>\n",
       "      <td>16.67</td>\n",
       "      <td>152.20</td>\n",
       "      <td>1575.0</td>\n",
       "      <td>0.1374</td>\n",
       "      <td>0.2050</td>\n",
       "      <td>0.4000</td>\n",
       "      <td>0.1625</td>\n",
       "      <td>0.2364</td>\n",
       "      <td>0.07678</td>\n",
       "      <td>0</td>\n",
       "    </tr>\n",
       "  </tbody>\n",
       "</table>\n",
       "<p>5 rows × 31 columns</p>\n",
       "</div>"
      ],
      "text/plain": [
       "   mean radius  mean texture  mean perimeter  mean area  mean smoothness  \\\n",
       "0        17.99         10.38          122.80     1001.0          0.11840   \n",
       "1        20.57         17.77          132.90     1326.0          0.08474   \n",
       "2        19.69         21.25          130.00     1203.0          0.10960   \n",
       "3        11.42         20.38           77.58      386.1          0.14250   \n",
       "4        20.29         14.34          135.10     1297.0          0.10030   \n",
       "\n",
       "   mean compactness  mean concavity  mean concave points  mean symmetry  \\\n",
       "0           0.27760          0.3001              0.14710         0.2419   \n",
       "1           0.07864          0.0869              0.07017         0.1812   \n",
       "2           0.15990          0.1974              0.12790         0.2069   \n",
       "3           0.28390          0.2414              0.10520         0.2597   \n",
       "4           0.13280          0.1980              0.10430         0.1809   \n",
       "\n",
       "   mean fractal dimension  ...  worst texture  worst perimeter  worst area  \\\n",
       "0                 0.07871  ...          17.33           184.60      2019.0   \n",
       "1                 0.05667  ...          23.41           158.80      1956.0   \n",
       "2                 0.05999  ...          25.53           152.50      1709.0   \n",
       "3                 0.09744  ...          26.50            98.87       567.7   \n",
       "4                 0.05883  ...          16.67           152.20      1575.0   \n",
       "\n",
       "   worst smoothness  worst compactness  worst concavity  worst concave points  \\\n",
       "0            0.1622             0.6656           0.7119                0.2654   \n",
       "1            0.1238             0.1866           0.2416                0.1860   \n",
       "2            0.1444             0.4245           0.4504                0.2430   \n",
       "3            0.2098             0.8663           0.6869                0.2575   \n",
       "4            0.1374             0.2050           0.4000                0.1625   \n",
       "\n",
       "   worst symmetry  worst fractal dimension  class  \n",
       "0          0.4601                  0.11890      0  \n",
       "1          0.2750                  0.08902      0  \n",
       "2          0.3613                  0.08758      0  \n",
       "3          0.6638                  0.17300      0  \n",
       "4          0.2364                  0.07678      0  \n",
       "\n",
       "[5 rows x 31 columns]"
      ]
     },
     "execution_count": 9,
     "metadata": {},
     "output_type": "execute_result"
    }
   ],
   "source": [
    "data.head()"
   ]
  },
  {
   "cell_type": "code",
   "execution_count": 10,
   "metadata": {},
   "outputs": [
    {
     "data": {
      "text/html": [
       "<div>\n",
       "<style scoped>\n",
       "    .dataframe tbody tr th:only-of-type {\n",
       "        vertical-align: middle;\n",
       "    }\n",
       "\n",
       "    .dataframe tbody tr th {\n",
       "        vertical-align: top;\n",
       "    }\n",
       "\n",
       "    .dataframe thead th {\n",
       "        text-align: right;\n",
       "    }\n",
       "</style>\n",
       "<table border=\"1\" class=\"dataframe\">\n",
       "  <thead>\n",
       "    <tr style=\"text-align: right;\">\n",
       "      <th></th>\n",
       "      <th>mean radius</th>\n",
       "      <th>mean texture</th>\n",
       "      <th>mean perimeter</th>\n",
       "      <th>mean area</th>\n",
       "      <th>mean smoothness</th>\n",
       "      <th>mean compactness</th>\n",
       "      <th>mean concavity</th>\n",
       "      <th>mean concave points</th>\n",
       "      <th>mean symmetry</th>\n",
       "      <th>mean fractal dimension</th>\n",
       "      <th>...</th>\n",
       "      <th>worst texture</th>\n",
       "      <th>worst perimeter</th>\n",
       "      <th>worst area</th>\n",
       "      <th>worst smoothness</th>\n",
       "      <th>worst compactness</th>\n",
       "      <th>worst concavity</th>\n",
       "      <th>worst concave points</th>\n",
       "      <th>worst symmetry</th>\n",
       "      <th>worst fractal dimension</th>\n",
       "      <th>class</th>\n",
       "    </tr>\n",
       "  </thead>\n",
       "  <tbody>\n",
       "    <tr>\n",
       "      <th>count</th>\n",
       "      <td>569.000000</td>\n",
       "      <td>569.000000</td>\n",
       "      <td>569.000000</td>\n",
       "      <td>569.000000</td>\n",
       "      <td>569.000000</td>\n",
       "      <td>569.000000</td>\n",
       "      <td>569.000000</td>\n",
       "      <td>569.000000</td>\n",
       "      <td>569.000000</td>\n",
       "      <td>569.000000</td>\n",
       "      <td>...</td>\n",
       "      <td>569.000000</td>\n",
       "      <td>569.000000</td>\n",
       "      <td>569.000000</td>\n",
       "      <td>569.000000</td>\n",
       "      <td>569.000000</td>\n",
       "      <td>569.000000</td>\n",
       "      <td>569.000000</td>\n",
       "      <td>569.000000</td>\n",
       "      <td>569.000000</td>\n",
       "      <td>569.000000</td>\n",
       "    </tr>\n",
       "    <tr>\n",
       "      <th>mean</th>\n",
       "      <td>14.127292</td>\n",
       "      <td>19.289649</td>\n",
       "      <td>91.969033</td>\n",
       "      <td>654.889104</td>\n",
       "      <td>0.096360</td>\n",
       "      <td>0.104341</td>\n",
       "      <td>0.088799</td>\n",
       "      <td>0.048919</td>\n",
       "      <td>0.181162</td>\n",
       "      <td>0.062798</td>\n",
       "      <td>...</td>\n",
       "      <td>25.677223</td>\n",
       "      <td>107.261213</td>\n",
       "      <td>880.583128</td>\n",
       "      <td>0.132369</td>\n",
       "      <td>0.254265</td>\n",
       "      <td>0.272188</td>\n",
       "      <td>0.114606</td>\n",
       "      <td>0.290076</td>\n",
       "      <td>0.083946</td>\n",
       "      <td>0.627417</td>\n",
       "    </tr>\n",
       "    <tr>\n",
       "      <th>std</th>\n",
       "      <td>3.524049</td>\n",
       "      <td>4.301036</td>\n",
       "      <td>24.298981</td>\n",
       "      <td>351.914129</td>\n",
       "      <td>0.014064</td>\n",
       "      <td>0.052813</td>\n",
       "      <td>0.079720</td>\n",
       "      <td>0.038803</td>\n",
       "      <td>0.027414</td>\n",
       "      <td>0.007060</td>\n",
       "      <td>...</td>\n",
       "      <td>6.146258</td>\n",
       "      <td>33.602542</td>\n",
       "      <td>569.356993</td>\n",
       "      <td>0.022832</td>\n",
       "      <td>0.157336</td>\n",
       "      <td>0.208624</td>\n",
       "      <td>0.065732</td>\n",
       "      <td>0.061867</td>\n",
       "      <td>0.018061</td>\n",
       "      <td>0.483918</td>\n",
       "    </tr>\n",
       "    <tr>\n",
       "      <th>min</th>\n",
       "      <td>6.981000</td>\n",
       "      <td>9.710000</td>\n",
       "      <td>43.790000</td>\n",
       "      <td>143.500000</td>\n",
       "      <td>0.052630</td>\n",
       "      <td>0.019380</td>\n",
       "      <td>0.000000</td>\n",
       "      <td>0.000000</td>\n",
       "      <td>0.106000</td>\n",
       "      <td>0.049960</td>\n",
       "      <td>...</td>\n",
       "      <td>12.020000</td>\n",
       "      <td>50.410000</td>\n",
       "      <td>185.200000</td>\n",
       "      <td>0.071170</td>\n",
       "      <td>0.027290</td>\n",
       "      <td>0.000000</td>\n",
       "      <td>0.000000</td>\n",
       "      <td>0.156500</td>\n",
       "      <td>0.055040</td>\n",
       "      <td>0.000000</td>\n",
       "    </tr>\n",
       "    <tr>\n",
       "      <th>25%</th>\n",
       "      <td>11.700000</td>\n",
       "      <td>16.170000</td>\n",
       "      <td>75.170000</td>\n",
       "      <td>420.300000</td>\n",
       "      <td>0.086370</td>\n",
       "      <td>0.064920</td>\n",
       "      <td>0.029560</td>\n",
       "      <td>0.020310</td>\n",
       "      <td>0.161900</td>\n",
       "      <td>0.057700</td>\n",
       "      <td>...</td>\n",
       "      <td>21.080000</td>\n",
       "      <td>84.110000</td>\n",
       "      <td>515.300000</td>\n",
       "      <td>0.116600</td>\n",
       "      <td>0.147200</td>\n",
       "      <td>0.114500</td>\n",
       "      <td>0.064930</td>\n",
       "      <td>0.250400</td>\n",
       "      <td>0.071460</td>\n",
       "      <td>0.000000</td>\n",
       "    </tr>\n",
       "    <tr>\n",
       "      <th>50%</th>\n",
       "      <td>13.370000</td>\n",
       "      <td>18.840000</td>\n",
       "      <td>86.240000</td>\n",
       "      <td>551.100000</td>\n",
       "      <td>0.095870</td>\n",
       "      <td>0.092630</td>\n",
       "      <td>0.061540</td>\n",
       "      <td>0.033500</td>\n",
       "      <td>0.179200</td>\n",
       "      <td>0.061540</td>\n",
       "      <td>...</td>\n",
       "      <td>25.410000</td>\n",
       "      <td>97.660000</td>\n",
       "      <td>686.500000</td>\n",
       "      <td>0.131300</td>\n",
       "      <td>0.211900</td>\n",
       "      <td>0.226700</td>\n",
       "      <td>0.099930</td>\n",
       "      <td>0.282200</td>\n",
       "      <td>0.080040</td>\n",
       "      <td>1.000000</td>\n",
       "    </tr>\n",
       "    <tr>\n",
       "      <th>75%</th>\n",
       "      <td>15.780000</td>\n",
       "      <td>21.800000</td>\n",
       "      <td>104.100000</td>\n",
       "      <td>782.700000</td>\n",
       "      <td>0.105300</td>\n",
       "      <td>0.130400</td>\n",
       "      <td>0.130700</td>\n",
       "      <td>0.074000</td>\n",
       "      <td>0.195700</td>\n",
       "      <td>0.066120</td>\n",
       "      <td>...</td>\n",
       "      <td>29.720000</td>\n",
       "      <td>125.400000</td>\n",
       "      <td>1084.000000</td>\n",
       "      <td>0.146000</td>\n",
       "      <td>0.339100</td>\n",
       "      <td>0.382900</td>\n",
       "      <td>0.161400</td>\n",
       "      <td>0.317900</td>\n",
       "      <td>0.092080</td>\n",
       "      <td>1.000000</td>\n",
       "    </tr>\n",
       "    <tr>\n",
       "      <th>max</th>\n",
       "      <td>28.110000</td>\n",
       "      <td>39.280000</td>\n",
       "      <td>188.500000</td>\n",
       "      <td>2501.000000</td>\n",
       "      <td>0.163400</td>\n",
       "      <td>0.345400</td>\n",
       "      <td>0.426800</td>\n",
       "      <td>0.201200</td>\n",
       "      <td>0.304000</td>\n",
       "      <td>0.097440</td>\n",
       "      <td>...</td>\n",
       "      <td>49.540000</td>\n",
       "      <td>251.200000</td>\n",
       "      <td>4254.000000</td>\n",
       "      <td>0.222600</td>\n",
       "      <td>1.058000</td>\n",
       "      <td>1.252000</td>\n",
       "      <td>0.291000</td>\n",
       "      <td>0.663800</td>\n",
       "      <td>0.207500</td>\n",
       "      <td>1.000000</td>\n",
       "    </tr>\n",
       "  </tbody>\n",
       "</table>\n",
       "<p>8 rows × 31 columns</p>\n",
       "</div>"
      ],
      "text/plain": [
       "       mean radius  mean texture  mean perimeter    mean area  \\\n",
       "count   569.000000    569.000000      569.000000   569.000000   \n",
       "mean     14.127292     19.289649       91.969033   654.889104   \n",
       "std       3.524049      4.301036       24.298981   351.914129   \n",
       "min       6.981000      9.710000       43.790000   143.500000   \n",
       "25%      11.700000     16.170000       75.170000   420.300000   \n",
       "50%      13.370000     18.840000       86.240000   551.100000   \n",
       "75%      15.780000     21.800000      104.100000   782.700000   \n",
       "max      28.110000     39.280000      188.500000  2501.000000   \n",
       "\n",
       "       mean smoothness  mean compactness  mean concavity  mean concave points  \\\n",
       "count       569.000000        569.000000      569.000000           569.000000   \n",
       "mean          0.096360          0.104341        0.088799             0.048919   \n",
       "std           0.014064          0.052813        0.079720             0.038803   \n",
       "min           0.052630          0.019380        0.000000             0.000000   \n",
       "25%           0.086370          0.064920        0.029560             0.020310   \n",
       "50%           0.095870          0.092630        0.061540             0.033500   \n",
       "75%           0.105300          0.130400        0.130700             0.074000   \n",
       "max           0.163400          0.345400        0.426800             0.201200   \n",
       "\n",
       "       mean symmetry  mean fractal dimension  ...  worst texture  \\\n",
       "count     569.000000              569.000000  ...     569.000000   \n",
       "mean        0.181162                0.062798  ...      25.677223   \n",
       "std         0.027414                0.007060  ...       6.146258   \n",
       "min         0.106000                0.049960  ...      12.020000   \n",
       "25%         0.161900                0.057700  ...      21.080000   \n",
       "50%         0.179200                0.061540  ...      25.410000   \n",
       "75%         0.195700                0.066120  ...      29.720000   \n",
       "max         0.304000                0.097440  ...      49.540000   \n",
       "\n",
       "       worst perimeter   worst area  worst smoothness  worst compactness  \\\n",
       "count       569.000000   569.000000        569.000000         569.000000   \n",
       "mean        107.261213   880.583128          0.132369           0.254265   \n",
       "std          33.602542   569.356993          0.022832           0.157336   \n",
       "min          50.410000   185.200000          0.071170           0.027290   \n",
       "25%          84.110000   515.300000          0.116600           0.147200   \n",
       "50%          97.660000   686.500000          0.131300           0.211900   \n",
       "75%         125.400000  1084.000000          0.146000           0.339100   \n",
       "max         251.200000  4254.000000          0.222600           1.058000   \n",
       "\n",
       "       worst concavity  worst concave points  worst symmetry  \\\n",
       "count       569.000000            569.000000      569.000000   \n",
       "mean          0.272188              0.114606        0.290076   \n",
       "std           0.208624              0.065732        0.061867   \n",
       "min           0.000000              0.000000        0.156500   \n",
       "25%           0.114500              0.064930        0.250400   \n",
       "50%           0.226700              0.099930        0.282200   \n",
       "75%           0.382900              0.161400        0.317900   \n",
       "max           1.252000              0.291000        0.663800   \n",
       "\n",
       "       worst fractal dimension       class  \n",
       "count               569.000000  569.000000  \n",
       "mean                  0.083946    0.627417  \n",
       "std                   0.018061    0.483918  \n",
       "min                   0.055040    0.000000  \n",
       "25%                   0.071460    0.000000  \n",
       "50%                   0.080040    1.000000  \n",
       "75%                   0.092080    1.000000  \n",
       "max                   0.207500    1.000000  \n",
       "\n",
       "[8 rows x 31 columns]"
      ]
     },
     "execution_count": 10,
     "metadata": {},
     "output_type": "execute_result"
    }
   ],
   "source": [
    "data.describe()"
   ]
  },
  {
   "cell_type": "code",
   "execution_count": 11,
   "metadata": {},
   "outputs": [
    {
     "name": "stdout",
     "output_type": "stream",
     "text": [
      "1    357\n",
      "0    212\n",
      "Name: class, dtype: int64\n"
     ]
    }
   ],
   "source": [
    "#How many Malignant and Bening cases\n",
    "\n",
    "print(data[\"class\"].value_counts())"
   ]
  },
  {
   "cell_type": "code",
   "execution_count": 12,
   "metadata": {},
   "outputs": [
    {
     "name": "stdout",
     "output_type": "stream",
     "text": [
      "['malignant' 'benign']\n"
     ]
    }
   ],
   "source": [
    "print(cancer_ds.target_names)"
   ]
  },
  {
   "cell_type": "code",
   "execution_count": 13,
   "metadata": {},
   "outputs": [
    {
     "data": {
      "text/html": [
       "<div>\n",
       "<style scoped>\n",
       "    .dataframe tbody tr th:only-of-type {\n",
       "        vertical-align: middle;\n",
       "    }\n",
       "\n",
       "    .dataframe tbody tr th {\n",
       "        vertical-align: top;\n",
       "    }\n",
       "\n",
       "    .dataframe thead th {\n",
       "        text-align: right;\n",
       "    }\n",
       "</style>\n",
       "<table border=\"1\" class=\"dataframe\">\n",
       "  <thead>\n",
       "    <tr style=\"text-align: right;\">\n",
       "      <th></th>\n",
       "      <th>mean radius</th>\n",
       "      <th>mean texture</th>\n",
       "      <th>mean perimeter</th>\n",
       "      <th>mean area</th>\n",
       "      <th>mean smoothness</th>\n",
       "      <th>mean compactness</th>\n",
       "      <th>mean concavity</th>\n",
       "      <th>mean concave points</th>\n",
       "      <th>mean symmetry</th>\n",
       "      <th>mean fractal dimension</th>\n",
       "      <th>...</th>\n",
       "      <th>worst radius</th>\n",
       "      <th>worst texture</th>\n",
       "      <th>worst perimeter</th>\n",
       "      <th>worst area</th>\n",
       "      <th>worst smoothness</th>\n",
       "      <th>worst compactness</th>\n",
       "      <th>worst concavity</th>\n",
       "      <th>worst concave points</th>\n",
       "      <th>worst symmetry</th>\n",
       "      <th>worst fractal dimension</th>\n",
       "    </tr>\n",
       "    <tr>\n",
       "      <th>class</th>\n",
       "      <th></th>\n",
       "      <th></th>\n",
       "      <th></th>\n",
       "      <th></th>\n",
       "      <th></th>\n",
       "      <th></th>\n",
       "      <th></th>\n",
       "      <th></th>\n",
       "      <th></th>\n",
       "      <th></th>\n",
       "      <th></th>\n",
       "      <th></th>\n",
       "      <th></th>\n",
       "      <th></th>\n",
       "      <th></th>\n",
       "      <th></th>\n",
       "      <th></th>\n",
       "      <th></th>\n",
       "      <th></th>\n",
       "      <th></th>\n",
       "      <th></th>\n",
       "    </tr>\n",
       "  </thead>\n",
       "  <tbody>\n",
       "    <tr>\n",
       "      <th>0</th>\n",
       "      <td>17.462830</td>\n",
       "      <td>21.604906</td>\n",
       "      <td>115.365377</td>\n",
       "      <td>978.376415</td>\n",
       "      <td>0.102898</td>\n",
       "      <td>0.145188</td>\n",
       "      <td>0.160775</td>\n",
       "      <td>0.087990</td>\n",
       "      <td>0.192909</td>\n",
       "      <td>0.062680</td>\n",
       "      <td>...</td>\n",
       "      <td>21.134811</td>\n",
       "      <td>29.318208</td>\n",
       "      <td>141.370330</td>\n",
       "      <td>1422.286321</td>\n",
       "      <td>0.144845</td>\n",
       "      <td>0.374824</td>\n",
       "      <td>0.450606</td>\n",
       "      <td>0.182237</td>\n",
       "      <td>0.323468</td>\n",
       "      <td>0.091530</td>\n",
       "    </tr>\n",
       "    <tr>\n",
       "      <th>1</th>\n",
       "      <td>12.146524</td>\n",
       "      <td>17.914762</td>\n",
       "      <td>78.075406</td>\n",
       "      <td>462.790196</td>\n",
       "      <td>0.092478</td>\n",
       "      <td>0.080085</td>\n",
       "      <td>0.046058</td>\n",
       "      <td>0.025717</td>\n",
       "      <td>0.174186</td>\n",
       "      <td>0.062867</td>\n",
       "      <td>...</td>\n",
       "      <td>13.379801</td>\n",
       "      <td>23.515070</td>\n",
       "      <td>87.005938</td>\n",
       "      <td>558.899440</td>\n",
       "      <td>0.124959</td>\n",
       "      <td>0.182673</td>\n",
       "      <td>0.166238</td>\n",
       "      <td>0.074444</td>\n",
       "      <td>0.270246</td>\n",
       "      <td>0.079442</td>\n",
       "    </tr>\n",
       "  </tbody>\n",
       "</table>\n",
       "<p>2 rows × 30 columns</p>\n",
       "</div>"
      ],
      "text/plain": [
       "       mean radius  mean texture  mean perimeter   mean area  mean smoothness  \\\n",
       "class                                                                           \n",
       "0        17.462830     21.604906      115.365377  978.376415         0.102898   \n",
       "1        12.146524     17.914762       78.075406  462.790196         0.092478   \n",
       "\n",
       "       mean compactness  mean concavity  mean concave points  mean symmetry  \\\n",
       "class                                                                         \n",
       "0              0.145188        0.160775             0.087990       0.192909   \n",
       "1              0.080085        0.046058             0.025717       0.174186   \n",
       "\n",
       "       mean fractal dimension  ...  worst radius  worst texture  \\\n",
       "class                          ...                                \n",
       "0                    0.062680  ...     21.134811      29.318208   \n",
       "1                    0.062867  ...     13.379801      23.515070   \n",
       "\n",
       "       worst perimeter   worst area  worst smoothness  worst compactness  \\\n",
       "class                                                                      \n",
       "0           141.370330  1422.286321          0.144845           0.374824   \n",
       "1            87.005938   558.899440          0.124959           0.182673   \n",
       "\n",
       "       worst concavity  worst concave points  worst symmetry  \\\n",
       "class                                                          \n",
       "0             0.450606              0.182237        0.323468   \n",
       "1             0.166238              0.074444        0.270246   \n",
       "\n",
       "       worst fractal dimension  \n",
       "class                           \n",
       "0                     0.091530  \n",
       "1                     0.079442  \n",
       "\n",
       "[2 rows x 30 columns]"
      ]
     },
     "execution_count": 13,
     "metadata": {},
     "output_type": "execute_result"
    }
   ],
   "source": [
    "data.groupby(\"class\").mean()\n"
   ]
  },
  {
   "cell_type": "code",
   "execution_count": null,
   "metadata": {},
   "outputs": [],
   "source": []
  },
  {
   "cell_type": "code",
   "execution_count": null,
   "metadata": {},
   "outputs": [],
   "source": []
  },
  {
   "cell_type": "markdown",
   "metadata": {},
   "source": [
    "# Train test split"
   ]
  },
  {
   "cell_type": "code",
   "execution_count": null,
   "metadata": {},
   "outputs": [],
   "source": []
  },
  {
   "cell_type": "code",
   "execution_count": 14,
   "metadata": {},
   "outputs": [],
   "source": [
    "from sklearn.model_selection import train_test_split"
   ]
  },
  {
   "cell_type": "code",
   "execution_count": 15,
   "metadata": {},
   "outputs": [],
   "source": [
    "X=data.drop('class',axis=1)   #deletion of class column\n",
    "Y=data[\"class\"]"
   ]
  },
  {
   "cell_type": "code",
   "execution_count": 16,
   "metadata": {},
   "outputs": [
    {
     "data": {
      "text/plain": [
       "pandas.core.frame.DataFrame"
      ]
     },
     "execution_count": 16,
     "metadata": {},
     "output_type": "execute_result"
    }
   ],
   "source": [
    "type(X)\n"
   ]
  },
  {
   "cell_type": "code",
   "execution_count": 17,
   "metadata": {},
   "outputs": [],
   "source": [
    "#magical line of code to split a dataset\n",
    "\n",
    "X_train, X_test, Y_train, Y_test = train_test_split(X, Y, test_size=0.1, stratify=Y, random_state =10 )"
   ]
  },
  {
   "cell_type": "code",
   "execution_count": 18,
   "metadata": {},
   "outputs": [
    {
     "name": "stdout",
     "output_type": "stream",
     "text": [
      "(569,) (512,) (57,)\n"
     ]
    }
   ],
   "source": [
    "print(Y.shape, Y_train.shape, Y_test.shape)"
   ]
  },
  {
   "cell_type": "code",
   "execution_count": 19,
   "metadata": {},
   "outputs": [
    {
     "name": "stdout",
     "output_type": "stream",
     "text": [
      "mean radius                 14.119902\n",
      "mean texture                19.275898\n",
      "mean perimeter              91.879395\n",
      "mean area                  654.603711\n",
      "mean smoothness              0.096161\n",
      "mean compactness             0.103251\n",
      "mean concavity               0.087585\n",
      "mean concave points          0.048536\n",
      "mean symmetry                0.181293\n",
      "mean fractal dimension       0.062691\n",
      "radius error                 0.403297\n",
      "texture error                1.218786\n",
      "perimeter error              2.849795\n",
      "area error                  40.127699\n",
      "smoothness error             0.007072\n",
      "compactness error            0.025176\n",
      "concavity error              0.031683\n",
      "concave points error         0.011771\n",
      "symmetry error               0.020537\n",
      "fractal dimension error      0.003751\n",
      "worst radius                16.233904\n",
      "worst texture               25.619766\n",
      "worst perimeter            106.947520\n",
      "worst area                 877.067188\n",
      "worst smoothness             0.131886\n",
      "worst compactness            0.250044\n",
      "worst concavity              0.267618\n",
      "worst concave points         0.113476\n",
      "worst symmetry               0.289100\n",
      "worst fractal dimension      0.083540\n",
      "dtype: float64 mean radius                 14.193667\n",
      "mean texture                19.413158\n",
      "mean perimeter              92.774211\n",
      "mean area                  657.452632\n",
      "mean smoothness              0.098146\n",
      "mean compactness             0.114135\n",
      "mean concavity               0.099707\n",
      "mean concave points          0.052358\n",
      "mean symmetry                0.179988\n",
      "mean fractal dimension       0.063753\n",
      "radius error                 0.422012\n",
      "texture error                1.199496\n",
      "perimeter error              3.012154\n",
      "area error                  42.217825\n",
      "smoothness error             0.006761\n",
      "compactness error            0.028192\n",
      "concavity error              0.033787\n",
      "concave points error         0.012021\n",
      "symmetry error               0.020587\n",
      "fractal dimension error      0.004194\n",
      "worst radius                16.586140\n",
      "worst texture               26.193333\n",
      "worst perimeter            110.078947\n",
      "worst area                 912.164912\n",
      "worst smoothness             0.136701\n",
      "worst compactness            0.292180\n",
      "worst concavity              0.313247\n",
      "worst concave points         0.124759\n",
      "worst symmetry               0.298839\n",
      "worst fractal dimension      0.087591\n",
      "dtype: float64 mean radius                 14.127292\n",
      "mean texture                19.289649\n",
      "mean perimeter              91.969033\n",
      "mean area                  654.889104\n",
      "mean smoothness              0.096360\n",
      "mean compactness             0.104341\n",
      "mean concavity               0.088799\n",
      "mean concave points          0.048919\n",
      "mean symmetry                0.181162\n",
      "mean fractal dimension       0.062798\n",
      "radius error                 0.405172\n",
      "texture error                1.216853\n",
      "perimeter error              2.866059\n",
      "area error                  40.337079\n",
      "smoothness error             0.007041\n",
      "compactness error            0.025478\n",
      "concavity error              0.031894\n",
      "concave points error         0.011796\n",
      "symmetry error               0.020542\n",
      "fractal dimension error      0.003795\n",
      "worst radius                16.269190\n",
      "worst texture               25.677223\n",
      "worst perimeter            107.261213\n",
      "worst area                 880.583128\n",
      "worst smoothness             0.132369\n",
      "worst compactness            0.254265\n",
      "worst concavity              0.272188\n",
      "worst concave points         0.114606\n",
      "worst symmetry               0.290076\n",
      "worst fractal dimension      0.083946\n",
      "dtype: float64\n"
     ]
    }
   ],
   "source": [
    "print(X_train.mean(), X_test.mean(), X.mean())"
   ]
  },
  {
   "cell_type": "code",
   "execution_count": null,
   "metadata": {},
   "outputs": [],
   "source": []
  },
  {
   "cell_type": "markdown",
   "metadata": {},
   "source": [
    "## Binarized"
   ]
  },
  {
   "cell_type": "code",
   "execution_count": 20,
   "metadata": {},
   "outputs": [],
   "source": [
    " X_binarised_train = X_train.apply(pd.cut, bins = 2, labels= [1,0])"
   ]
  },
  {
   "cell_type": "code",
   "execution_count": 21,
   "metadata": {},
   "outputs": [
    {
     "name": "stdout",
     "output_type": "stream",
     "text": [
      "    mean radius mean texture mean perimeter mean area mean smoothness  \\\n",
      "535           0            1              0         1               1   \n",
      "338           1            1              1         1               1   \n",
      "503           0            1              0         0               1   \n",
      "26            1            1              1         1               1   \n",
      "158           1            1              1         1               1   \n",
      "..          ...          ...            ...       ...             ...   \n",
      "350           1            1              1         1               1   \n",
      "357           1            1              1         1               1   \n",
      "206           1            1              1         1               0   \n",
      "560           1            0              1         1               1   \n",
      "416           1            1              1         1               1   \n",
      "\n",
      "    mean compactness mean concavity mean concave points mean symmetry  \\\n",
      "535                1              1                   0             0   \n",
      "338                1              1                   1             1   \n",
      "503                1              1                   1             1   \n",
      "26                 0              1                   1             0   \n",
      "158                1              1                   1             1   \n",
      "..               ...            ...                 ...           ...   \n",
      "350                1              1                   1             1   \n",
      "357                1              1                   1             1   \n",
      "206                1              1                   1             1   \n",
      "560                1              1                   1             1   \n",
      "416                1              1                   1             1   \n",
      "\n",
      "    mean fractal dimension  ... worst radius worst texture worst perimeter  \\\n",
      "535                      1  ...            0             1               0   \n",
      "338                      1  ...            1             1               1   \n",
      "503                      1  ...            0             1               0   \n",
      "26                       1  ...            1             0               1   \n",
      "158                      1  ...            1             1               1   \n",
      "..                     ...  ...          ...           ...             ...   \n",
      "350                      1  ...            1             1               1   \n",
      "357                      1  ...            1             1               1   \n",
      "206                      1  ...            1             1               1   \n",
      "560                      1  ...            1             0               1   \n",
      "416                      1  ...            1             0               1   \n",
      "\n",
      "    worst area worst smoothness worst compactness worst concavity  \\\n",
      "535          1                1                 1               1   \n",
      "338          1                1                 1               1   \n",
      "503          0                1                 1               1   \n",
      "26           1                0                 0               1   \n",
      "158          1                1                 1               1   \n",
      "..         ...              ...               ...             ...   \n",
      "350          1                1                 1               1   \n",
      "357          1                1                 1               1   \n",
      "206          1                1                 1               1   \n",
      "560          1                1                 1               1   \n",
      "416          1                0                 1               1   \n",
      "\n",
      "    worst concave points worst symmetry worst fractal dimension  \n",
      "535                    0              1                       1  \n",
      "338                    1              1                       1  \n",
      "503                    0              1                       1  \n",
      "26                     0              0                       0  \n",
      "158                    1              1                       1  \n",
      "..                   ...            ...                     ...  \n",
      "350                    1              1                       1  \n",
      "357                    1              1                       1  \n",
      "206                    1              1                       1  \n",
      "560                    1              1                       1  \n",
      "416                    1              1                       1  \n",
      "\n",
      "[512 rows x 30 columns]\n"
     ]
    }
   ],
   "source": [
    "print(X_binarised_train)"
   ]
  },
  {
   "cell_type": "code",
   "execution_count": 22,
   "metadata": {},
   "outputs": [],
   "source": [
    " X_binarised_test = X_test.apply(pd.cut, bins = 2, labels= [1,0])"
   ]
  },
  {
   "cell_type": "code",
   "execution_count": 23,
   "metadata": {},
   "outputs": [
    {
     "name": "stdout",
     "output_type": "stream",
     "text": [
      "    mean radius mean texture mean perimeter mean area mean smoothness  \\\n",
      "563           0            0              0         0               0   \n",
      "347           1            1              1         1               1   \n",
      "44            1            0              1         1               1   \n",
      "289           1            1              1         1               1   \n",
      "424           1            1              1         1               0   \n",
      "272           0            1              0         0               1   \n",
      "74            1            1              1         1               1   \n",
      "537           1            0              1         1               0   \n",
      "252           0            1              0         0               0   \n",
      "428           1            1              1         1               1   \n",
      "513           1            1              1         1               1   \n",
      "290           1            1              1         1               1   \n",
      "541           1            0              1         1               1   \n",
      "406           1            1              1         1               1   \n",
      "8             1            0              1         1               0   \n",
      "0             0            1              0         1               0   \n",
      "332           1            1              1         1               0   \n",
      "362           1            1              1         1               1   \n",
      "456           1            0              1         1               1   \n",
      "107           1            1              1         1               1   \n",
      "527           1            1              1         1               1   \n",
      "359           1            1              1         1               0   \n",
      "463           1            1              1         1               1   \n",
      "196           1            0              1         1               0   \n",
      "99            1            1              1         1               1   \n",
      "219           0            0              0         0               1   \n",
      "484           1            1              1         1               0   \n",
      "110           1            1              1         1               0   \n",
      "37            1            1              1         1               1   \n",
      "16            1            1              1         1               1   \n",
      "339           0            0              0         0               0   \n",
      "266           1            1              1         1               1   \n",
      "377           1            0              1         1               1   \n",
      "106           1            1              1         1               0   \n",
      "374           1            1              1         1               1   \n",
      "343           0            0              0         0               1   \n",
      "9             1            0              1         1               0   \n",
      "363           0            1              1         1               1   \n",
      "369           0            0              0         0               0   \n",
      "168           0            0              0         1               0   \n",
      "240           1            1              1         1               1   \n",
      "518           1            1              1         1               0   \n",
      "176           1            1              1         1               1   \n",
      "77            0            1              0         1               0   \n",
      "271           1            1              1         1               1   \n",
      "293           1            1              1         1               1   \n",
      "205           1            1              1         1               1   \n",
      "112           1            1              1         1               1   \n",
      "215           1            1              1         1               0   \n",
      "15            1            0              1         1               0   \n",
      "126           1            0              1         1               1   \n",
      "120           1            1              1         1               1   \n",
      "48            1            1              1         1               0   \n",
      "124           1            1              1         1               1   \n",
      "551           1            0              1         1               1   \n",
      "244           0            0              0         0               0   \n",
      "367           1            1              1         1               1   \n",
      "\n",
      "    mean compactness mean concavity mean concave points mean symmetry  \\\n",
      "563                0              0                   0             0   \n",
      "347                1              1                   1             1   \n",
      "44                 1              1                   1             1   \n",
      "289                1              1                   1             0   \n",
      "424                1              1                   1             0   \n",
      "272                0              0                   0             1   \n",
      "74                 1              1                   1             1   \n",
      "537                1              1                   1             0   \n",
      "252                0              0                   0             1   \n",
      "428                1              1                   1             1   \n",
      "513                1              1                   1             1   \n",
      "290                0              1                   1             1   \n",
      "541                1              1                   1             1   \n",
      "406                1              1                   1             1   \n",
      "8                  0              0                   0             0   \n",
      "0                  0              0                   0             0   \n",
      "332                1              1                   1             1   \n",
      "362                1              1                   1             1   \n",
      "456                1              1                   1             1   \n",
      "107                1              1                   1             1   \n",
      "527                1              1                   1             1   \n",
      "359                1              1                   1             1   \n",
      "463                1              1                   1             1   \n",
      "196                1              1                   1             1   \n",
      "99                 1              1                   1             1   \n",
      "219                1              1                   1             1   \n",
      "484                1              1                   1             1   \n",
      "110                1              1                   1             1   \n",
      "37                 1              1                   1             1   \n",
      "16                 1              1                   1             1   \n",
      "339                1              0                   0             1   \n",
      "266                1              1                   1             1   \n",
      "377                1              1                   1             1   \n",
      "106                1              1                   1             1   \n",
      "374                1              1                   1             1   \n",
      "343                1              0                   0             0   \n",
      "9                  0              0                   0             0   \n",
      "363                1              1                   1             1   \n",
      "369                0              0                   0             1   \n",
      "168                0              0                   0             1   \n",
      "240                1              1                   1             1   \n",
      "518                0              1                   1             1   \n",
      "176                1              1                   1             1   \n",
      "77                 0              0                   0             0   \n",
      "271                1              1                   1             1   \n",
      "293                1              1                   1             1   \n",
      "205                1              1                   1             1   \n",
      "112                0              0                   1             1   \n",
      "215                1              1                   1             0   \n",
      "15                 0              0                   1             0   \n",
      "126                1              1                   1             1   \n",
      "120                1              1                   1             1   \n",
      "48                 1              1                   1             1   \n",
      "124                1              1                   1             1   \n",
      "551                1              1                   1             0   \n",
      "244                1              0                   0             1   \n",
      "367                1              1                   1             1   \n",
      "\n",
      "    mean fractal dimension  ... worst radius worst texture worst perimeter  \\\n",
      "563                      0  ...            0             1               0   \n",
      "347                      1  ...            1             1               1   \n",
      "44                       1  ...            1             0               1   \n",
      "289                      1  ...            1             1               1   \n",
      "424                      0  ...            1             1               1   \n",
      "272                      1  ...            0             1               0   \n",
      "74                       1  ...            1             1               1   \n",
      "537                      0  ...            1             0               1   \n",
      "252                      1  ...            0             1               0   \n",
      "428                      1  ...            1             1               1   \n",
      "513                      1  ...            1             1               1   \n",
      "290                      0  ...            1             1               1   \n",
      "541                      1  ...            1             0               1   \n",
      "406                      1  ...            1             1               1   \n",
      "8                        0  ...            1             0               1   \n",
      "0                        0  ...            0             1               0   \n",
      "332                      1  ...            1             1               1   \n",
      "362                      1  ...            1             1               1   \n",
      "456                      1  ...            1             0               1   \n",
      "107                      1  ...            1             1               1   \n",
      "527                      1  ...            1             1               1   \n",
      "359                      0  ...            1             1               1   \n",
      "463                      1  ...            1             1               1   \n",
      "196                      0  ...            1             0               1   \n",
      "99                       1  ...            1             0               1   \n",
      "219                      1  ...            0             0               0   \n",
      "484                      1  ...            1             1               1   \n",
      "110                      0  ...            1             1               1   \n",
      "37                       1  ...            1             1               1   \n",
      "16                       1  ...            1             0               1   \n",
      "339                      1  ...            0             0               0   \n",
      "266                      1  ...            1             1               1   \n",
      "377                      1  ...            1             0               1   \n",
      "106                      1  ...            1             1               1   \n",
      "374                      1  ...            1             1               1   \n",
      "343                      1  ...            0             0               0   \n",
      "9                        0  ...            1             0               1   \n",
      "363                      1  ...            1             1               1   \n",
      "369                      1  ...            0             1               0   \n",
      "168                      1  ...            0             0               0   \n",
      "240                      1  ...            1             1               1   \n",
      "518                      0  ...            1             1               1   \n",
      "176                      0  ...            1             1               1   \n",
      "77                       1  ...            0             1               0   \n",
      "271                      1  ...            1             1               1   \n",
      "293                      1  ...            1             1               1   \n",
      "205                      1  ...            1             1               1   \n",
      "112                      0  ...            1             1               1   \n",
      "215                      0  ...            1             1               1   \n",
      "15                       0  ...            1             0               1   \n",
      "126                      1  ...            1             0               1   \n",
      "120                      1  ...            1             1               1   \n",
      "48                       1  ...            1             1               1   \n",
      "124                      1  ...            1             1               1   \n",
      "551                      1  ...            1             1               1   \n",
      "244                      1  ...            0             0               0   \n",
      "367                      1  ...            1             1               1   \n",
      "\n",
      "    worst area worst smoothness worst compactness worst concavity  \\\n",
      "563          0                0                 1               0   \n",
      "347          1                1                 1               1   \n",
      "44           1                0                 1               1   \n",
      "289          1                1                 1               1   \n",
      "424          1                0                 1               1   \n",
      "272          0                1                 1               0   \n",
      "74           1                1                 1               1   \n",
      "537          1                0                 1               1   \n",
      "252          0                0                 0               0   \n",
      "428          1                1                 1               1   \n",
      "513          1                1                 1               1   \n",
      "290          1                1                 1               1   \n",
      "541          1                1                 1               1   \n",
      "406          1                1                 1               1   \n",
      "8            1                0                 1               1   \n",
      "0            0                0                 0               0   \n",
      "332          1                0                 1               1   \n",
      "362          1                1                 1               1   \n",
      "456          1                0                 1               1   \n",
      "107          1                1                 1               1   \n",
      "527          1                1                 1               1   \n",
      "359          1                1                 1               1   \n",
      "463          1                1                 1               1   \n",
      "196          1                0                 1               1   \n",
      "99           1                0                 1               1   \n",
      "219          0                0                 1               1   \n",
      "484          1                0                 1               1   \n",
      "110          1                0                 1               1   \n",
      "37           1                1                 1               1   \n",
      "16           1                0                 1               1   \n",
      "339          0                0                 1               1   \n",
      "266          1                1                 1               1   \n",
      "377          1                1                 1               1   \n",
      "106          1                0                 1               1   \n",
      "374          1                1                 1               1   \n",
      "343          1                1                 1               1   \n",
      "9            1                0                 0               0   \n",
      "363          1                1                 1               1   \n",
      "369          0                1                 1               1   \n",
      "168          0                0                 1               1   \n",
      "240          1                1                 1               1   \n",
      "518          1                0                 1               1   \n",
      "176          1                1                 1               1   \n",
      "77           1                0                 0               1   \n",
      "271          1                1                 1               1   \n",
      "293          1                1                 1               1   \n",
      "205          1                0                 1               1   \n",
      "112          1                1                 1               0   \n",
      "215          1                0                 1               1   \n",
      "15           1                0                 0               0   \n",
      "126          1                0                 1               1   \n",
      "120          1                0                 1               1   \n",
      "48           1                0                 1               1   \n",
      "124          1                1                 1               1   \n",
      "551          1                1                 1               1   \n",
      "244          1                0                 1               1   \n",
      "367          1                1                 1               1   \n",
      "\n",
      "    worst concave points worst symmetry worst fractal dimension  \n",
      "563                    0              1                       1  \n",
      "347                    1              1                       1  \n",
      "44                     0              0                       1  \n",
      "289                    1              1                       1  \n",
      "424                    1              1                       1  \n",
      "272                    0              1                       1  \n",
      "74                     1              1                       1  \n",
      "537                    1              1                       1  \n",
      "252                    0              1                       1  \n",
      "428                    1              1                       1  \n",
      "513                    1              1                       1  \n",
      "290                    1              1                       1  \n",
      "541                    1              1                       1  \n",
      "406                    1              1                       1  \n",
      "8                      0              0                       1  \n",
      "0                      0              0                       1  \n",
      "332                    1              1                       1  \n",
      "362                    1              1                       1  \n",
      "456                    1              1                       1  \n",
      "107                    1              1                       1  \n",
      "527                    1              1                       1  \n",
      "359                    1              1                       1  \n",
      "463                    1              1                       1  \n",
      "196                    0              1                       1  \n",
      "99                     0              1                       1  \n",
      "219                    0              1                       1  \n",
      "484                    0              1                       1  \n",
      "110                    1              1                       1  \n",
      "37                     1              1                       1  \n",
      "16                     0              1                       1  \n",
      "339                    0              1                       1  \n",
      "266                    1              1                       1  \n",
      "377                    1              1                       1  \n",
      "106                    1              1                       1  \n",
      "374                    1              0                       1  \n",
      "343                    0              0                       1  \n",
      "9                      0              0                       0  \n",
      "363                    1              1                       1  \n",
      "369                    0              1                       1  \n",
      "168                    0              1                       1  \n",
      "240                    1              1                       1  \n",
      "518                    1              1                       1  \n",
      "176                    1              1                       1  \n",
      "77                     0              0                       1  \n",
      "271                    1              1                       1  \n",
      "293                    1              1                       1  \n",
      "205                    1              0                       1  \n",
      "112                    0              1                       1  \n",
      "215                    0              0                       1  \n",
      "15                     0              0                       1  \n",
      "126                    1              0                       1  \n",
      "120                    1              1                       1  \n",
      "48                     1              1                       1  \n",
      "124                    1              1                       1  \n",
      "551                    1              1                       1  \n",
      "244                    0              1                       1  \n",
      "367                    1              1                       1  \n",
      "\n",
      "[57 rows x 30 columns]\n"
     ]
    }
   ],
   "source": [
    "print(X_binarised_test)"
   ]
  },
  {
   "cell_type": "code",
   "execution_count": 24,
   "metadata": {},
   "outputs": [
    {
     "data": {
      "text/plain": [
       "pandas.core.frame.DataFrame"
      ]
     },
     "execution_count": 24,
     "metadata": {},
     "output_type": "execute_result"
    }
   ],
   "source": [
    "#type of X_binarised_test\n",
    "\n",
    "type(X_binarised_test)\n"
   ]
  },
  {
   "cell_type": "code",
   "execution_count": 25,
   "metadata": {},
   "outputs": [],
   "source": [
    "# Convert to arrays\n",
    "\n",
    "X_binarised_train = X_binarised_train.values\n",
    "X_binarised_test = X_binarised_test.values\n"
   ]
  },
  {
   "cell_type": "code",
   "execution_count": 26,
   "metadata": {},
   "outputs": [
    {
     "data": {
      "text/plain": [
       "numpy.ndarray"
      ]
     },
     "execution_count": 26,
     "metadata": {},
     "output_type": "execute_result"
    }
   ],
   "source": [
    "type(X_binarised_test)"
   ]
  },
  {
   "cell_type": "code",
   "execution_count": null,
   "metadata": {},
   "outputs": [],
   "source": []
  },
  {
   "cell_type": "code",
   "execution_count": 27,
   "metadata": {},
   "outputs": [
    {
     "name": "stdout",
     "output_type": "stream",
     "text": [
      "109\n",
      "ML Model says it's Malignant\n",
      "Actual Output is Malignant\n"
     ]
    }
   ],
   "source": [
    "# ML Model\n",
    "import random \n",
    "b = 3  #what are the possible values that b can take??\n",
    "\n",
    "i = random.randint(0, X_train.shape[0])\n",
    "print(i)\n",
    "if (np.sum(X_binarised_train[i,:])>= b):\n",
    "    print(\"ML Model says it's Malignant\")\n",
    "else:\n",
    "    print(\"ML Model says it's Beningn\")\n",
    "\n",
    "    \n",
    "if (Y_train[i] == 1):\n",
    "    print(\"Actual Output is Malignant\")\n",
    "else:\n",
    "     print(\"Actual Output is Beningn\")\n",
    "        \n",
    "        "
   ]
  },
  {
   "cell_type": "code",
   "execution_count": 28,
   "metadata": {},
   "outputs": [],
   "source": [
    "## Accuracy\n",
    "\n",
    "b = 30\n",
    "\n",
    "def get_predictions(X_binarised_train, Y_train, b):\n",
    "    pred = []\n",
    "    for i in range(X_binarised_train.shape[0]):\n",
    "        if(np.sum(X_binarised_train[i, :])>= b):\n",
    "            pred.append(1)\n",
    "        else:\n",
    "            pred.append(0)\n",
    "        \n",
    "    df= pd.DataFrame(columns= ['Predictions', 'True_values'])\n",
    "    df['Predictions'] = pred\n",
    "    df['True_values']  = Y_train\n",
    "    df['cor_wr'] = df['Predictions'] == df['True_values']\n",
    "    display(df['cor_wr'].value_counts())\n",
    "    return df['cor_wr'].value_counts()[1] / (df['cor_wr'].value_counts()[1] + df['cor_wr'].value_counts()[0])\n",
    "\n",
    "    \n",
    "    \n",
    "\n",
    "\n",
    "## try the model for all values of b and print the accuracy\n",
    "\n"
   ]
  },
  {
   "cell_type": "code",
   "execution_count": 29,
   "metadata": {},
   "outputs": [
    {
     "name": "stdout",
     "output_type": "stream",
     "text": [
      "value of b:  0\n"
     ]
    },
    {
     "data": {
      "text/plain": [
       "True     284\n",
       "False    228\n",
       "Name: cor_wr, dtype: int64"
      ]
     },
     "metadata": {},
     "output_type": "display_data"
    },
    {
     "name": "stdout",
     "output_type": "stream",
     "text": [
      "Accuracy:  0.5546875\n",
      "value of b:  1\n"
     ]
    },
    {
     "data": {
      "text/plain": [
       "True     284\n",
       "False    228\n",
       "Name: cor_wr, dtype: int64"
      ]
     },
     "metadata": {},
     "output_type": "display_data"
    },
    {
     "name": "stdout",
     "output_type": "stream",
     "text": [
      "Accuracy:  0.5546875\n",
      "value of b:  2\n"
     ]
    },
    {
     "data": {
      "text/plain": [
       "True     284\n",
       "False    228\n",
       "Name: cor_wr, dtype: int64"
      ]
     },
     "metadata": {},
     "output_type": "display_data"
    },
    {
     "name": "stdout",
     "output_type": "stream",
     "text": [
      "Accuracy:  0.5546875\n",
      "value of b:  3\n"
     ]
    },
    {
     "data": {
      "text/plain": [
       "True     284\n",
       "False    228\n",
       "Name: cor_wr, dtype: int64"
      ]
     },
     "metadata": {},
     "output_type": "display_data"
    },
    {
     "name": "stdout",
     "output_type": "stream",
     "text": [
      "Accuracy:  0.5546875\n",
      "value of b:  4\n"
     ]
    },
    {
     "data": {
      "text/plain": [
       "True     284\n",
       "False    228\n",
       "Name: cor_wr, dtype: int64"
      ]
     },
     "metadata": {},
     "output_type": "display_data"
    },
    {
     "name": "stdout",
     "output_type": "stream",
     "text": [
      "Accuracy:  0.5546875\n",
      "value of b:  5\n"
     ]
    },
    {
     "data": {
      "text/plain": [
       "True     284\n",
       "False    228\n",
       "Name: cor_wr, dtype: int64"
      ]
     },
     "metadata": {},
     "output_type": "display_data"
    },
    {
     "name": "stdout",
     "output_type": "stream",
     "text": [
      "Accuracy:  0.5546875\n",
      "value of b:  6\n"
     ]
    },
    {
     "data": {
      "text/plain": [
       "True     284\n",
       "False    228\n",
       "Name: cor_wr, dtype: int64"
      ]
     },
     "metadata": {},
     "output_type": "display_data"
    },
    {
     "name": "stdout",
     "output_type": "stream",
     "text": [
      "Accuracy:  0.5546875\n",
      "value of b:  7\n"
     ]
    },
    {
     "data": {
      "text/plain": [
       "True     284\n",
       "False    228\n",
       "Name: cor_wr, dtype: int64"
      ]
     },
     "metadata": {},
     "output_type": "display_data"
    },
    {
     "name": "stdout",
     "output_type": "stream",
     "text": [
      "Accuracy:  0.5546875\n",
      "value of b:  8\n"
     ]
    },
    {
     "data": {
      "text/plain": [
       "True     284\n",
       "False    228\n",
       "Name: cor_wr, dtype: int64"
      ]
     },
     "metadata": {},
     "output_type": "display_data"
    },
    {
     "name": "stdout",
     "output_type": "stream",
     "text": [
      "Accuracy:  0.5546875\n",
      "value of b:  9\n"
     ]
    },
    {
     "data": {
      "text/plain": [
       "True     284\n",
       "False    228\n",
       "Name: cor_wr, dtype: int64"
      ]
     },
     "metadata": {},
     "output_type": "display_data"
    },
    {
     "name": "stdout",
     "output_type": "stream",
     "text": [
      "Accuracy:  0.5546875\n",
      "value of b:  10\n"
     ]
    },
    {
     "data": {
      "text/plain": [
       "True     284\n",
       "False    228\n",
       "Name: cor_wr, dtype: int64"
      ]
     },
     "metadata": {},
     "output_type": "display_data"
    },
    {
     "name": "stdout",
     "output_type": "stream",
     "text": [
      "Accuracy:  0.5546875\n",
      "value of b:  11\n"
     ]
    },
    {
     "data": {
      "text/plain": [
       "True     284\n",
       "False    228\n",
       "Name: cor_wr, dtype: int64"
      ]
     },
     "metadata": {},
     "output_type": "display_data"
    },
    {
     "name": "stdout",
     "output_type": "stream",
     "text": [
      "Accuracy:  0.5546875\n",
      "value of b:  12\n"
     ]
    },
    {
     "data": {
      "text/plain": [
       "True     284\n",
       "False    228\n",
       "Name: cor_wr, dtype: int64"
      ]
     },
     "metadata": {},
     "output_type": "display_data"
    },
    {
     "name": "stdout",
     "output_type": "stream",
     "text": [
      "Accuracy:  0.5546875\n",
      "value of b:  13\n"
     ]
    },
    {
     "data": {
      "text/plain": [
       "True     285\n",
       "False    227\n",
       "Name: cor_wr, dtype: int64"
      ]
     },
     "metadata": {},
     "output_type": "display_data"
    },
    {
     "name": "stdout",
     "output_type": "stream",
     "text": [
      "Accuracy:  0.556640625\n",
      "value of b:  14\n"
     ]
    },
    {
     "data": {
      "text/plain": [
       "True     285\n",
       "False    227\n",
       "Name: cor_wr, dtype: int64"
      ]
     },
     "metadata": {},
     "output_type": "display_data"
    },
    {
     "name": "stdout",
     "output_type": "stream",
     "text": [
      "Accuracy:  0.556640625\n",
      "value of b:  15\n"
     ]
    },
    {
     "data": {
      "text/plain": [
       "True     283\n",
       "False    229\n",
       "Name: cor_wr, dtype: int64"
      ]
     },
     "metadata": {},
     "output_type": "display_data"
    },
    {
     "name": "stdout",
     "output_type": "stream",
     "text": [
      "Accuracy:  0.552734375\n",
      "value of b:  16\n"
     ]
    },
    {
     "data": {
      "text/plain": [
       "True     281\n",
       "False    231\n",
       "Name: cor_wr, dtype: int64"
      ]
     },
     "metadata": {},
     "output_type": "display_data"
    },
    {
     "name": "stdout",
     "output_type": "stream",
     "text": [
      "Accuracy:  0.548828125\n",
      "value of b:  17\n"
     ]
    },
    {
     "data": {
      "text/plain": [
       "True     277\n",
       "False    235\n",
       "Name: cor_wr, dtype: int64"
      ]
     },
     "metadata": {},
     "output_type": "display_data"
    },
    {
     "name": "stdout",
     "output_type": "stream",
     "text": [
      "Accuracy:  0.541015625\n",
      "value of b:  18\n"
     ]
    },
    {
     "data": {
      "text/plain": [
       "True     276\n",
       "False    236\n",
       "Name: cor_wr, dtype: int64"
      ]
     },
     "metadata": {},
     "output_type": "display_data"
    },
    {
     "name": "stdout",
     "output_type": "stream",
     "text": [
      "Accuracy:  0.5390625\n",
      "value of b:  19\n"
     ]
    },
    {
     "data": {
      "text/plain": [
       "True     275\n",
       "False    237\n",
       "Name: cor_wr, dtype: int64"
      ]
     },
     "metadata": {},
     "output_type": "display_data"
    },
    {
     "name": "stdout",
     "output_type": "stream",
     "text": [
      "Accuracy:  0.537109375\n",
      "value of b:  20\n"
     ]
    },
    {
     "data": {
      "text/plain": [
       "True     272\n",
       "False    240\n",
       "Name: cor_wr, dtype: int64"
      ]
     },
     "metadata": {},
     "output_type": "display_data"
    },
    {
     "name": "stdout",
     "output_type": "stream",
     "text": [
      "Accuracy:  0.53125\n",
      "value of b:  21\n"
     ]
    },
    {
     "data": {
      "text/plain": [
       "True     272\n",
       "False    240\n",
       "Name: cor_wr, dtype: int64"
      ]
     },
     "metadata": {},
     "output_type": "display_data"
    },
    {
     "name": "stdout",
     "output_type": "stream",
     "text": [
      "Accuracy:  0.53125\n",
      "value of b:  22\n"
     ]
    },
    {
     "data": {
      "text/plain": [
       "True     269\n",
       "False    243\n",
       "Name: cor_wr, dtype: int64"
      ]
     },
     "metadata": {},
     "output_type": "display_data"
    },
    {
     "name": "stdout",
     "output_type": "stream",
     "text": [
      "Accuracy:  0.525390625\n",
      "value of b:  23\n"
     ]
    },
    {
     "data": {
      "text/plain": [
       "True     270\n",
       "False    242\n",
       "Name: cor_wr, dtype: int64"
      ]
     },
     "metadata": {},
     "output_type": "display_data"
    },
    {
     "name": "stdout",
     "output_type": "stream",
     "text": [
      "Accuracy:  0.52734375\n",
      "value of b:  24\n"
     ]
    },
    {
     "data": {
      "text/plain": [
       "True     269\n",
       "False    243\n",
       "Name: cor_wr, dtype: int64"
      ]
     },
     "metadata": {},
     "output_type": "display_data"
    },
    {
     "name": "stdout",
     "output_type": "stream",
     "text": [
      "Accuracy:  0.525390625\n",
      "value of b:  25\n"
     ]
    },
    {
     "data": {
      "text/plain": [
       "True     262\n",
       "False    250\n",
       "Name: cor_wr, dtype: int64"
      ]
     },
     "metadata": {},
     "output_type": "display_data"
    },
    {
     "name": "stdout",
     "output_type": "stream",
     "text": [
      "Accuracy:  0.51171875\n",
      "value of b:  26\n"
     ]
    },
    {
     "data": {
      "text/plain": [
       "True     257\n",
       "False    255\n",
       "Name: cor_wr, dtype: int64"
      ]
     },
     "metadata": {},
     "output_type": "display_data"
    },
    {
     "name": "stdout",
     "output_type": "stream",
     "text": [
      "Accuracy:  0.501953125\n",
      "value of b:  27\n"
     ]
    },
    {
     "data": {
      "text/plain": [
       "True     257\n",
       "False    255\n",
       "Name: cor_wr, dtype: int64"
      ]
     },
     "metadata": {},
     "output_type": "display_data"
    },
    {
     "name": "stdout",
     "output_type": "stream",
     "text": [
      "Accuracy:  0.501953125\n",
      "value of b:  28\n"
     ]
    },
    {
     "data": {
      "text/plain": [
       "False    257\n",
       "True     255\n",
       "Name: cor_wr, dtype: int64"
      ]
     },
     "metadata": {},
     "output_type": "display_data"
    },
    {
     "name": "stdout",
     "output_type": "stream",
     "text": [
      "Accuracy:  0.498046875\n",
      "value of b:  29\n"
     ]
    },
    {
     "data": {
      "text/plain": [
       "False    266\n",
       "True     246\n",
       "Name: cor_wr, dtype: int64"
      ]
     },
     "metadata": {},
     "output_type": "display_data"
    },
    {
     "name": "stdout",
     "output_type": "stream",
     "text": [
      "Accuracy:  0.48046875\n"
     ]
    }
   ],
   "source": [
    "for b in range(X_train.shape[1]):\n",
    "    print(\"value of b: \",b)\n",
    "    print(\"Accuracy: \", get_predictions(X_binarised_train, Y_train, b))\n",
    "    \n",
    "    "
   ]
  },
  {
   "cell_type": "raw",
   "metadata": {},
   "source": []
  }
 ],
 "metadata": {
  "kernelspec": {
   "display_name": "Python 3",
   "language": "python",
   "name": "python3"
  },
  "language_info": {
   "codemirror_mode": {
    "name": "ipython",
    "version": 3
   },
   "file_extension": ".py",
   "mimetype": "text/x-python",
   "name": "python",
   "nbconvert_exporter": "python",
   "pygments_lexer": "ipython3",
   "version": "3.8.3"
  }
 },
 "nbformat": 4,
 "nbformat_minor": 4
}
