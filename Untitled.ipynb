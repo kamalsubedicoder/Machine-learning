{
 "cells": [
  {
   "cell_type": "code",
   "execution_count": 1,
   "metadata": {},
   "outputs": [],
   "source": [
    "import pandas as pd\n",
    "import numpy as np"
   ]
  },
  {
   "cell_type": "code",
   "execution_count": 2,
   "metadata": {},
   "outputs": [],
   "source": [
    "#load data\n",
    "data=pd.read_csv('crx.data',header=None)"
   ]
  },
  {
   "cell_type": "code",
   "execution_count": 3,
   "metadata": {},
   "outputs": [],
   "source": [
    "#create some variable names for our datasets\n",
    "varnames=['A'+str(s) for s in range (1,17)]"
   ]
  },
  {
   "cell_type": "code",
   "execution_count": 4,
   "metadata": {},
   "outputs": [],
   "source": [
    "#add column names\n",
    "data.columns = varnames"
   ]
  },
  {
   "cell_type": "code",
   "execution_count": 5,
   "metadata": {},
   "outputs": [],
   "source": [
    "#replace ? with np.nan\n",
    "data = data.replace('?',np.nan)"
   ]
  },
  {
   "cell_type": "code",
   "execution_count": null,
   "metadata": {},
   "outputs": [],
   "source": [
    "#re-cast some variable types to its correct type\n",
    "data['A2']=data['A2'].astype('float')"
   ]
  },
  {
   "cell_type": "code",
   "execution_count": null,
   "metadata": {},
   "outputs": [],
   "source": [
    "#encode target to binary\n",
    "data['A16']=data['A16'].map({'+':1,'-':0})"
   ]
  },
  {
   "cell_type": "code",
   "execution_count": 14,
   "metadata": {},
   "outputs": [
    {
     "data": {
      "text/plain": [
       "0    30.83\n",
       "1    58.67\n",
       "2    24.50\n",
       "3    27.83\n",
       "4    20.17\n",
       "Name: A2, dtype: float64"
      ]
     },
     "execution_count": 14,
     "metadata": {},
     "output_type": "execute_result"
    }
   ],
   "source": [
    "#data.info() #data types of columns\n",
    "data.head()"
   ]
  },
  {
   "cell_type": "code",
   "execution_count": 15,
   "metadata": {},
   "outputs": [
    {
     "data": {
      "text/plain": [
       "0     30.83\n",
       "1     58.67\n",
       "2     24.50\n",
       "3     27.83\n",
       "4     20.17\n",
       "5     32.08\n",
       "6     33.17\n",
       "7     22.92\n",
       "8     54.42\n",
       "9     42.50\n",
       "10    22.08\n",
       "11    29.92\n",
       "12    38.25\n",
       "13    48.08\n",
       "14    45.83\n",
       "Name: A2, dtype: float64"
      ]
     },
     "execution_count": 15,
     "metadata": {},
     "output_type": "execute_result"
    }
   ],
   "source": [
    "data.head(15)"
   ]
  },
  {
   "cell_type": "code",
   "execution_count": 16,
   "metadata": {},
   "outputs": [],
   "source": [
    "#save the data\n",
    "data.to_csv('creditApproval.csv',index=False)"
   ]
  },
  {
   "cell_type": "code",
   "execution_count": 22,
   "metadata": {},
   "outputs": [
    {
     "ename": "AttributeError",
     "evalue": "'Series' object has no attribute 'columns'",
     "output_type": "error",
     "traceback": [
      "\u001b[1;31m---------------------------------------------------------------------------\u001b[0m",
      "\u001b[1;31mAttributeError\u001b[0m                            Traceback (most recent call last)",
      "\u001b[1;32m<ipython-input-22-09199ef63e08>\u001b[0m in \u001b[0;36m<module>\u001b[1;34m\u001b[0m\n\u001b[0;32m      1\u001b[0m \u001b[1;31m#find the categorical variables\u001b[0m\u001b[1;33m\u001b[0m\u001b[1;33m\u001b[0m\u001b[1;33m\u001b[0m\u001b[0m\n\u001b[1;32m----> 2\u001b[1;33m \u001b[0mcat_columns\u001b[0m \u001b[1;33m=\u001b[0m \u001b[1;33m[\u001b[0m\u001b[0mc\u001b[0m \u001b[1;32mfor\u001b[0m \u001b[0mc\u001b[0m \u001b[1;32min\u001b[0m \u001b[0mdata\u001b[0m\u001b[1;33m.\u001b[0m\u001b[0mcolumns\u001b[0m \u001b[1;32mif\u001b[0m \u001b[0mdata\u001b[0m\u001b[1;33m[\u001b[0m\u001b[0mc\u001b[0m\u001b[1;33m]\u001b[0m\u001b[1;33m.\u001b[0m\u001b[0mdtypes\u001b[0m \u001b[1;33m==\u001b[0m\u001b[1;34m'0'\u001b[0m\u001b[1;33m]\u001b[0m\u001b[1;33m\u001b[0m\u001b[1;33m\u001b[0m\u001b[0m\n\u001b[0m",
      "\u001b[1;32mC:\\ProgramData\\Anaconda3\\lib\\site-packages\\pandas\\core\\generic.py\u001b[0m in \u001b[0;36m__getattr__\u001b[1;34m(self, name)\u001b[0m\n\u001b[0;32m   5268\u001b[0m             \u001b[1;32mor\u001b[0m \u001b[0mname\u001b[0m \u001b[1;32min\u001b[0m \u001b[0mself\u001b[0m\u001b[1;33m.\u001b[0m\u001b[0m_accessors\u001b[0m\u001b[1;33m\u001b[0m\u001b[1;33m\u001b[0m\u001b[0m\n\u001b[0;32m   5269\u001b[0m         ):\n\u001b[1;32m-> 5270\u001b[1;33m             \u001b[1;32mreturn\u001b[0m \u001b[0mobject\u001b[0m\u001b[1;33m.\u001b[0m\u001b[0m__getattribute__\u001b[0m\u001b[1;33m(\u001b[0m\u001b[0mself\u001b[0m\u001b[1;33m,\u001b[0m \u001b[0mname\u001b[0m\u001b[1;33m)\u001b[0m\u001b[1;33m\u001b[0m\u001b[1;33m\u001b[0m\u001b[0m\n\u001b[0m\u001b[0;32m   5271\u001b[0m         \u001b[1;32melse\u001b[0m\u001b[1;33m:\u001b[0m\u001b[1;33m\u001b[0m\u001b[1;33m\u001b[0m\u001b[0m\n\u001b[0;32m   5272\u001b[0m             \u001b[1;32mif\u001b[0m \u001b[0mself\u001b[0m\u001b[1;33m.\u001b[0m\u001b[0m_info_axis\u001b[0m\u001b[1;33m.\u001b[0m\u001b[0m_can_hold_identifiers_and_holds_name\u001b[0m\u001b[1;33m(\u001b[0m\u001b[0mname\u001b[0m\u001b[1;33m)\u001b[0m\u001b[1;33m:\u001b[0m\u001b[1;33m\u001b[0m\u001b[1;33m\u001b[0m\u001b[0m\n",
      "\u001b[1;31mAttributeError\u001b[0m: 'Series' object has no attribute 'columns'"
     ]
    }
   ],
   "source": [
    "#find the categorical variables\n",
    "cat_columns = [c for c in data.columns if data[c].dtypes =='0']"
   ]
  },
  {
   "cell_type": "code",
   "execution_count": 23,
   "metadata": {},
   "outputs": [],
   "source": [
    "#Task 2"
   ]
  },
  {
   "cell_type": "code",
   "execution_count": 26,
   "metadata": {},
   "outputs": [],
   "source": [
    "data = pd.read_csv('loan.csv')"
   ]
  },
  {
   "cell_type": "code",
   "execution_count": 27,
   "metadata": {},
   "outputs": [
    {
     "data": {
      "text/html": [
       "<div>\n",
       "<style scoped>\n",
       "    .dataframe tbody tr th:only-of-type {\n",
       "        vertical-align: middle;\n",
       "    }\n",
       "\n",
       "    .dataframe tbody tr th {\n",
       "        vertical-align: top;\n",
       "    }\n",
       "\n",
       "    .dataframe thead th {\n",
       "        text-align: right;\n",
       "    }\n",
       "</style>\n",
       "<table border=\"1\" class=\"dataframe\">\n",
       "  <thead>\n",
       "    <tr style=\"text-align: right;\">\n",
       "      <th></th>\n",
       "      <th>customer_id</th>\n",
       "      <th>disbursed_amount</th>\n",
       "      <th>interest</th>\n",
       "      <th>market</th>\n",
       "      <th>employment</th>\n",
       "      <th>time_employed</th>\n",
       "      <th>householder</th>\n",
       "      <th>income</th>\n",
       "      <th>date_issued</th>\n",
       "      <th>target</th>\n",
       "      <th>loan_purpose</th>\n",
       "      <th>number_open_accounts</th>\n",
       "      <th>date_last_payment</th>\n",
       "      <th>number_credit_lines_12</th>\n",
       "    </tr>\n",
       "  </thead>\n",
       "  <tbody>\n",
       "    <tr>\n",
       "      <th>0</th>\n",
       "      <td>0</td>\n",
       "      <td>23201.5</td>\n",
       "      <td>15.4840</td>\n",
       "      <td>C</td>\n",
       "      <td>Teacher</td>\n",
       "      <td>&lt;=5 years</td>\n",
       "      <td>RENT</td>\n",
       "      <td>84600.0</td>\n",
       "      <td>2013-06-11</td>\n",
       "      <td>0</td>\n",
       "      <td>Debt consolidation</td>\n",
       "      <td>4.0</td>\n",
       "      <td>2016-01-14</td>\n",
       "      <td>NaN</td>\n",
       "    </tr>\n",
       "    <tr>\n",
       "      <th>1</th>\n",
       "      <td>1</td>\n",
       "      <td>7425.0</td>\n",
       "      <td>11.2032</td>\n",
       "      <td>B</td>\n",
       "      <td>Accountant</td>\n",
       "      <td>&lt;=5 years</td>\n",
       "      <td>OWNER</td>\n",
       "      <td>102000.0</td>\n",
       "      <td>2014-05-08</td>\n",
       "      <td>0</td>\n",
       "      <td>Car purchase</td>\n",
       "      <td>13.0</td>\n",
       "      <td>2016-01-25</td>\n",
       "      <td>NaN</td>\n",
       "    </tr>\n",
       "    <tr>\n",
       "      <th>2</th>\n",
       "      <td>2</td>\n",
       "      <td>11150.0</td>\n",
       "      <td>8.5100</td>\n",
       "      <td>A</td>\n",
       "      <td>Statistician</td>\n",
       "      <td>&lt;=5 years</td>\n",
       "      <td>RENT</td>\n",
       "      <td>69840.0</td>\n",
       "      <td>2013-10-26</td>\n",
       "      <td>0</td>\n",
       "      <td>Debt consolidation</td>\n",
       "      <td>8.0</td>\n",
       "      <td>2014-09-26</td>\n",
       "      <td>NaN</td>\n",
       "    </tr>\n",
       "    <tr>\n",
       "      <th>3</th>\n",
       "      <td>3</td>\n",
       "      <td>7600.0</td>\n",
       "      <td>5.8656</td>\n",
       "      <td>A</td>\n",
       "      <td>Other</td>\n",
       "      <td>&lt;=5 years</td>\n",
       "      <td>RENT</td>\n",
       "      <td>100386.0</td>\n",
       "      <td>2015-08-20</td>\n",
       "      <td>0</td>\n",
       "      <td>Debt consolidation</td>\n",
       "      <td>20.0</td>\n",
       "      <td>2016-01-26</td>\n",
       "      <td>NaN</td>\n",
       "    </tr>\n",
       "    <tr>\n",
       "      <th>4</th>\n",
       "      <td>4</td>\n",
       "      <td>31960.0</td>\n",
       "      <td>18.7392</td>\n",
       "      <td>E</td>\n",
       "      <td>Bus driver</td>\n",
       "      <td>&gt;5 years</td>\n",
       "      <td>RENT</td>\n",
       "      <td>95040.0</td>\n",
       "      <td>2014-07-22</td>\n",
       "      <td>0</td>\n",
       "      <td>Debt consolidation</td>\n",
       "      <td>14.0</td>\n",
       "      <td>2016-01-11</td>\n",
       "      <td>NaN</td>\n",
       "    </tr>\n",
       "  </tbody>\n",
       "</table>\n",
       "</div>"
      ],
      "text/plain": [
       "   customer_id  disbursed_amount  interest market    employment time_employed  \\\n",
       "0            0           23201.5   15.4840      C       Teacher     <=5 years   \n",
       "1            1            7425.0   11.2032      B    Accountant     <=5 years   \n",
       "2            2           11150.0    8.5100      A  Statistician     <=5 years   \n",
       "3            3            7600.0    5.8656      A         Other     <=5 years   \n",
       "4            4           31960.0   18.7392      E    Bus driver      >5 years   \n",
       "\n",
       "  householder    income date_issued  target        loan_purpose  \\\n",
       "0        RENT   84600.0  2013-06-11       0  Debt consolidation   \n",
       "1       OWNER  102000.0  2014-05-08       0        Car purchase   \n",
       "2        RENT   69840.0  2013-10-26       0  Debt consolidation   \n",
       "3        RENT  100386.0  2015-08-20       0  Debt consolidation   \n",
       "4        RENT   95040.0  2014-07-22       0  Debt consolidation   \n",
       "\n",
       "   number_open_accounts date_last_payment  number_credit_lines_12  \n",
       "0                   4.0        2016-01-14                     NaN  \n",
       "1                  13.0        2016-01-25                     NaN  \n",
       "2                   8.0        2014-09-26                     NaN  \n",
       "3                  20.0        2016-01-26                     NaN  \n",
       "4                  14.0        2016-01-11                     NaN  "
      ]
     },
     "execution_count": 27,
     "metadata": {},
     "output_type": "execute_result"
    }
   ],
   "source": [
    "data.head()"
   ]
  },
  {
   "cell_type": "code",
   "execution_count": 28,
   "metadata": {},
   "outputs": [
    {
     "data": {
      "text/plain": [
       "array([23201.5 ,  7425.  , 11150.  , ...,  6279.  , 12894.75, 25584.  ])"
      ]
     },
     "execution_count": 28,
     "metadata": {},
     "output_type": "execute_result"
    }
   ],
   "source": [
    "data['disbursed_amount'].unique()"
   ]
  },
  {
   "cell_type": "code",
   "execution_count": 29,
   "metadata": {},
   "outputs": [
    {
     "data": {
      "text/plain": [
       "array(['RENT', 'OWNER', 'MORTGAGE'], dtype=object)"
      ]
     },
     "execution_count": 29,
     "metadata": {},
     "output_type": "execute_result"
    }
   ],
   "source": [
    "#categorical variable\n",
    "data['householder'].unique()"
   ]
  },
  {
   "cell_type": "code",
   "execution_count": 30,
   "metadata": {
    "scrolled": true
   },
   "outputs": [
    {
     "data": {
      "text/plain": [
       "(10000, 14)"
      ]
     },
     "execution_count": 30,
     "metadata": {},
     "output_type": "execute_result"
    }
   ],
   "source": [
    "data.shape"
   ]
  },
  {
   "cell_type": "code",
   "execution_count": 31,
   "metadata": {},
   "outputs": [
    {
     "data": {
      "text/plain": [
       "MORTGAGE    4957\n",
       "RENT        4055\n",
       "OWNER        988\n",
       "Name: householder, dtype: int64"
      ]
     },
     "execution_count": 31,
     "metadata": {},
     "output_type": "execute_result"
    }
   ],
   "source": [
    "data['householder'].value_counts()"
   ]
  },
  {
   "cell_type": "code",
   "execution_count": 32,
   "metadata": {},
   "outputs": [
    {
     "data": {
      "text/plain": [
       "array(['Teacher', 'Accountant', 'Statistician', 'Other', 'Bus driver',\n",
       "       'Secretary', 'Software developer', 'Nurse', 'Taxi driver', nan,\n",
       "       'Civil Servant', 'Dentist'], dtype=object)"
      ]
     },
     "execution_count": 32,
     "metadata": {},
     "output_type": "execute_result"
    }
   ],
   "source": [
    "data['employment'].unique()"
   ]
  },
  {
   "cell_type": "code",
   "execution_count": 33,
   "metadata": {},
   "outputs": [
    {
     "data": {
      "text/plain": [
       "Civil Servant         884\n",
       "Nurse                 880\n",
       "Bus driver            874\n",
       "Other                 863\n",
       "Teacher               861\n",
       "Accountant            852\n",
       "Statistician          852\n",
       "Secretary             846\n",
       "Dentist               844\n",
       "Taxi driver           825\n",
       "Software developer    808\n",
       "Name: employment, dtype: int64"
      ]
     },
     "execution_count": 33,
     "metadata": {},
     "output_type": "execute_result"
    }
   ],
   "source": [
    "data['employment'].value_counts()"
   ]
  },
  {
   "cell_type": "code",
   "execution_count": 34,
   "metadata": {},
   "outputs": [
    {
     "data": {
      "text/plain": [
       "dtype('O')"
      ]
     },
     "execution_count": 34,
     "metadata": {},
     "output_type": "execute_result"
    }
   ],
   "source": [
    "#Print dates\n",
    "data['date_issued'].dtypes"
   ]
  },
  {
   "cell_type": "code",
   "execution_count": 36,
   "metadata": {},
   "outputs": [],
   "source": [
    "data['date_issued_dt'] = pd.to_datetime(data['date_issued'])"
   ]
  },
  {
   "cell_type": "code",
   "execution_count": 37,
   "metadata": {},
   "outputs": [
    {
     "data": {
      "text/html": [
       "<div>\n",
       "<style scoped>\n",
       "    .dataframe tbody tr th:only-of-type {\n",
       "        vertical-align: middle;\n",
       "    }\n",
       "\n",
       "    .dataframe tbody tr th {\n",
       "        vertical-align: top;\n",
       "    }\n",
       "\n",
       "    .dataframe thead th {\n",
       "        text-align: right;\n",
       "    }\n",
       "</style>\n",
       "<table border=\"1\" class=\"dataframe\">\n",
       "  <thead>\n",
       "    <tr style=\"text-align: right;\">\n",
       "      <th></th>\n",
       "      <th>customer_id</th>\n",
       "      <th>disbursed_amount</th>\n",
       "      <th>interest</th>\n",
       "      <th>market</th>\n",
       "      <th>employment</th>\n",
       "      <th>time_employed</th>\n",
       "      <th>householder</th>\n",
       "      <th>income</th>\n",
       "      <th>date_issued</th>\n",
       "      <th>target</th>\n",
       "      <th>loan_purpose</th>\n",
       "      <th>number_open_accounts</th>\n",
       "      <th>date_last_payment</th>\n",
       "      <th>number_credit_lines_12</th>\n",
       "      <th>date_issued_dt</th>\n",
       "    </tr>\n",
       "  </thead>\n",
       "  <tbody>\n",
       "    <tr>\n",
       "      <th>0</th>\n",
       "      <td>0</td>\n",
       "      <td>23201.5</td>\n",
       "      <td>15.4840</td>\n",
       "      <td>C</td>\n",
       "      <td>Teacher</td>\n",
       "      <td>&lt;=5 years</td>\n",
       "      <td>RENT</td>\n",
       "      <td>84600.0</td>\n",
       "      <td>2013-06-11</td>\n",
       "      <td>0</td>\n",
       "      <td>Debt consolidation</td>\n",
       "      <td>4.0</td>\n",
       "      <td>2016-01-14</td>\n",
       "      <td>NaN</td>\n",
       "      <td>2013-06-11</td>\n",
       "    </tr>\n",
       "    <tr>\n",
       "      <th>1</th>\n",
       "      <td>1</td>\n",
       "      <td>7425.0</td>\n",
       "      <td>11.2032</td>\n",
       "      <td>B</td>\n",
       "      <td>Accountant</td>\n",
       "      <td>&lt;=5 years</td>\n",
       "      <td>OWNER</td>\n",
       "      <td>102000.0</td>\n",
       "      <td>2014-05-08</td>\n",
       "      <td>0</td>\n",
       "      <td>Car purchase</td>\n",
       "      <td>13.0</td>\n",
       "      <td>2016-01-25</td>\n",
       "      <td>NaN</td>\n",
       "      <td>2014-05-08</td>\n",
       "    </tr>\n",
       "    <tr>\n",
       "      <th>2</th>\n",
       "      <td>2</td>\n",
       "      <td>11150.0</td>\n",
       "      <td>8.5100</td>\n",
       "      <td>A</td>\n",
       "      <td>Statistician</td>\n",
       "      <td>&lt;=5 years</td>\n",
       "      <td>RENT</td>\n",
       "      <td>69840.0</td>\n",
       "      <td>2013-10-26</td>\n",
       "      <td>0</td>\n",
       "      <td>Debt consolidation</td>\n",
       "      <td>8.0</td>\n",
       "      <td>2014-09-26</td>\n",
       "      <td>NaN</td>\n",
       "      <td>2013-10-26</td>\n",
       "    </tr>\n",
       "    <tr>\n",
       "      <th>3</th>\n",
       "      <td>3</td>\n",
       "      <td>7600.0</td>\n",
       "      <td>5.8656</td>\n",
       "      <td>A</td>\n",
       "      <td>Other</td>\n",
       "      <td>&lt;=5 years</td>\n",
       "      <td>RENT</td>\n",
       "      <td>100386.0</td>\n",
       "      <td>2015-08-20</td>\n",
       "      <td>0</td>\n",
       "      <td>Debt consolidation</td>\n",
       "      <td>20.0</td>\n",
       "      <td>2016-01-26</td>\n",
       "      <td>NaN</td>\n",
       "      <td>2015-08-20</td>\n",
       "    </tr>\n",
       "    <tr>\n",
       "      <th>4</th>\n",
       "      <td>4</td>\n",
       "      <td>31960.0</td>\n",
       "      <td>18.7392</td>\n",
       "      <td>E</td>\n",
       "      <td>Bus driver</td>\n",
       "      <td>&gt;5 years</td>\n",
       "      <td>RENT</td>\n",
       "      <td>95040.0</td>\n",
       "      <td>2014-07-22</td>\n",
       "      <td>0</td>\n",
       "      <td>Debt consolidation</td>\n",
       "      <td>14.0</td>\n",
       "      <td>2016-01-11</td>\n",
       "      <td>NaN</td>\n",
       "      <td>2014-07-22</td>\n",
       "    </tr>\n",
       "  </tbody>\n",
       "</table>\n",
       "</div>"
      ],
      "text/plain": [
       "   customer_id  disbursed_amount  interest market    employment time_employed  \\\n",
       "0            0           23201.5   15.4840      C       Teacher     <=5 years   \n",
       "1            1            7425.0   11.2032      B    Accountant     <=5 years   \n",
       "2            2           11150.0    8.5100      A  Statistician     <=5 years   \n",
       "3            3            7600.0    5.8656      A         Other     <=5 years   \n",
       "4            4           31960.0   18.7392      E    Bus driver      >5 years   \n",
       "\n",
       "  householder    income date_issued  target        loan_purpose  \\\n",
       "0        RENT   84600.0  2013-06-11       0  Debt consolidation   \n",
       "1       OWNER  102000.0  2014-05-08       0        Car purchase   \n",
       "2        RENT   69840.0  2013-10-26       0  Debt consolidation   \n",
       "3        RENT  100386.0  2015-08-20       0  Debt consolidation   \n",
       "4        RENT   95040.0  2014-07-22       0  Debt consolidation   \n",
       "\n",
       "   number_open_accounts date_last_payment  number_credit_lines_12  \\\n",
       "0                   4.0        2016-01-14                     NaN   \n",
       "1                  13.0        2016-01-25                     NaN   \n",
       "2                   8.0        2014-09-26                     NaN   \n",
       "3                  20.0        2016-01-26                     NaN   \n",
       "4                  14.0        2016-01-11                     NaN   \n",
       "\n",
       "  date_issued_dt  \n",
       "0     2013-06-11  \n",
       "1     2014-05-08  \n",
       "2     2013-10-26  \n",
       "3     2015-08-20  \n",
       "4     2014-07-22  "
      ]
     },
     "execution_count": 37,
     "metadata": {},
     "output_type": "execute_result"
    }
   ],
   "source": [
    "data.head()"
   ]
  },
  {
   "cell_type": "code",
   "execution_count": 38,
   "metadata": {},
   "outputs": [],
   "source": [
    "data['month']=data['date_issued_dt'].dt.month"
   ]
  },
  {
   "cell_type": "code",
   "execution_count": 39,
   "metadata": {},
   "outputs": [
    {
     "data": {
      "text/plain": [
       "0        6\n",
       "1        5\n",
       "2       10\n",
       "3        8\n",
       "4        7\n",
       "        ..\n",
       "9995     1\n",
       "9996     3\n",
       "9997     4\n",
       "9998    11\n",
       "9999     1\n",
       "Name: month, Length: 10000, dtype: int64"
      ]
     },
     "execution_count": 39,
     "metadata": {},
     "output_type": "execute_result"
    }
   ],
   "source": [
    "data['month']"
   ]
  },
  {
   "cell_type": "code",
   "execution_count": 40,
   "metadata": {},
   "outputs": [
    {
     "data": {
      "text/html": [
       "<div>\n",
       "<style scoped>\n",
       "    .dataframe tbody tr th:only-of-type {\n",
       "        vertical-align: middle;\n",
       "    }\n",
       "\n",
       "    .dataframe tbody tr th {\n",
       "        vertical-align: top;\n",
       "    }\n",
       "\n",
       "    .dataframe thead th {\n",
       "        text-align: right;\n",
       "    }\n",
       "</style>\n",
       "<table border=\"1\" class=\"dataframe\">\n",
       "  <thead>\n",
       "    <tr style=\"text-align: right;\">\n",
       "      <th></th>\n",
       "      <th>customer_id</th>\n",
       "      <th>disbursed_amount</th>\n",
       "      <th>interest</th>\n",
       "      <th>market</th>\n",
       "      <th>employment</th>\n",
       "      <th>time_employed</th>\n",
       "      <th>householder</th>\n",
       "      <th>income</th>\n",
       "      <th>date_issued</th>\n",
       "      <th>target</th>\n",
       "      <th>loan_purpose</th>\n",
       "      <th>number_open_accounts</th>\n",
       "      <th>date_last_payment</th>\n",
       "      <th>number_credit_lines_12</th>\n",
       "      <th>date_issued_dt</th>\n",
       "      <th>month</th>\n",
       "    </tr>\n",
       "  </thead>\n",
       "  <tbody>\n",
       "    <tr>\n",
       "      <th>0</th>\n",
       "      <td>0</td>\n",
       "      <td>23201.5</td>\n",
       "      <td>15.4840</td>\n",
       "      <td>C</td>\n",
       "      <td>Teacher</td>\n",
       "      <td>&lt;=5 years</td>\n",
       "      <td>RENT</td>\n",
       "      <td>84600.0</td>\n",
       "      <td>2013-06-11</td>\n",
       "      <td>0</td>\n",
       "      <td>Debt consolidation</td>\n",
       "      <td>4.0</td>\n",
       "      <td>2016-01-14</td>\n",
       "      <td>NaN</td>\n",
       "      <td>2013-06-11</td>\n",
       "      <td>6</td>\n",
       "    </tr>\n",
       "    <tr>\n",
       "      <th>1</th>\n",
       "      <td>1</td>\n",
       "      <td>7425.0</td>\n",
       "      <td>11.2032</td>\n",
       "      <td>B</td>\n",
       "      <td>Accountant</td>\n",
       "      <td>&lt;=5 years</td>\n",
       "      <td>OWNER</td>\n",
       "      <td>102000.0</td>\n",
       "      <td>2014-05-08</td>\n",
       "      <td>0</td>\n",
       "      <td>Car purchase</td>\n",
       "      <td>13.0</td>\n",
       "      <td>2016-01-25</td>\n",
       "      <td>NaN</td>\n",
       "      <td>2014-05-08</td>\n",
       "      <td>5</td>\n",
       "    </tr>\n",
       "    <tr>\n",
       "      <th>2</th>\n",
       "      <td>2</td>\n",
       "      <td>11150.0</td>\n",
       "      <td>8.5100</td>\n",
       "      <td>A</td>\n",
       "      <td>Statistician</td>\n",
       "      <td>&lt;=5 years</td>\n",
       "      <td>RENT</td>\n",
       "      <td>69840.0</td>\n",
       "      <td>2013-10-26</td>\n",
       "      <td>0</td>\n",
       "      <td>Debt consolidation</td>\n",
       "      <td>8.0</td>\n",
       "      <td>2014-09-26</td>\n",
       "      <td>NaN</td>\n",
       "      <td>2013-10-26</td>\n",
       "      <td>10</td>\n",
       "    </tr>\n",
       "    <tr>\n",
       "      <th>3</th>\n",
       "      <td>3</td>\n",
       "      <td>7600.0</td>\n",
       "      <td>5.8656</td>\n",
       "      <td>A</td>\n",
       "      <td>Other</td>\n",
       "      <td>&lt;=5 years</td>\n",
       "      <td>RENT</td>\n",
       "      <td>100386.0</td>\n",
       "      <td>2015-08-20</td>\n",
       "      <td>0</td>\n",
       "      <td>Debt consolidation</td>\n",
       "      <td>20.0</td>\n",
       "      <td>2016-01-26</td>\n",
       "      <td>NaN</td>\n",
       "      <td>2015-08-20</td>\n",
       "      <td>8</td>\n",
       "    </tr>\n",
       "    <tr>\n",
       "      <th>4</th>\n",
       "      <td>4</td>\n",
       "      <td>31960.0</td>\n",
       "      <td>18.7392</td>\n",
       "      <td>E</td>\n",
       "      <td>Bus driver</td>\n",
       "      <td>&gt;5 years</td>\n",
       "      <td>RENT</td>\n",
       "      <td>95040.0</td>\n",
       "      <td>2014-07-22</td>\n",
       "      <td>0</td>\n",
       "      <td>Debt consolidation</td>\n",
       "      <td>14.0</td>\n",
       "      <td>2016-01-11</td>\n",
       "      <td>NaN</td>\n",
       "      <td>2014-07-22</td>\n",
       "      <td>7</td>\n",
       "    </tr>\n",
       "  </tbody>\n",
       "</table>\n",
       "</div>"
      ],
      "text/plain": [
       "   customer_id  disbursed_amount  interest market    employment time_employed  \\\n",
       "0            0           23201.5   15.4840      C       Teacher     <=5 years   \n",
       "1            1            7425.0   11.2032      B    Accountant     <=5 years   \n",
       "2            2           11150.0    8.5100      A  Statistician     <=5 years   \n",
       "3            3            7600.0    5.8656      A         Other     <=5 years   \n",
       "4            4           31960.0   18.7392      E    Bus driver      >5 years   \n",
       "\n",
       "  householder    income date_issued  target        loan_purpose  \\\n",
       "0        RENT   84600.0  2013-06-11       0  Debt consolidation   \n",
       "1       OWNER  102000.0  2014-05-08       0        Car purchase   \n",
       "2        RENT   69840.0  2013-10-26       0  Debt consolidation   \n",
       "3        RENT  100386.0  2015-08-20       0  Debt consolidation   \n",
       "4        RENT   95040.0  2014-07-22       0  Debt consolidation   \n",
       "\n",
       "   number_open_accounts date_last_payment  number_credit_lines_12  \\\n",
       "0                   4.0        2016-01-14                     NaN   \n",
       "1                  13.0        2016-01-25                     NaN   \n",
       "2                   8.0        2014-09-26                     NaN   \n",
       "3                  20.0        2016-01-26                     NaN   \n",
       "4                  14.0        2016-01-11                     NaN   \n",
       "\n",
       "  date_issued_dt  month  \n",
       "0     2013-06-11      6  \n",
       "1     2014-05-08      5  \n",
       "2     2013-10-26     10  \n",
       "3     2015-08-20      8  \n",
       "4     2014-07-22      7  "
      ]
     },
     "execution_count": 40,
     "metadata": {},
     "output_type": "execute_result"
    }
   ],
   "source": [
    "data.head()"
   ]
  },
  {
   "cell_type": "code",
   "execution_count": null,
   "metadata": {},
   "outputs": [],
   "source": []
  }
 ],
 "metadata": {
  "kernelspec": {
   "display_name": "Python 3",
   "language": "python",
   "name": "python3"
  },
  "language_info": {
   "codemirror_mode": {
    "name": "ipython",
    "version": 3
   },
   "file_extension": ".py",
   "mimetype": "text/x-python",
   "name": "python",
   "nbconvert_exporter": "python",
   "pygments_lexer": "ipython3",
   "version": "3.8.3"
  }
 },
 "nbformat": 4,
 "nbformat_minor": 4
}
